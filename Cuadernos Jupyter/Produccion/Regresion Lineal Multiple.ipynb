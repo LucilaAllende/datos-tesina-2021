{
 "cells": [
  {
   "cell_type": "code",
   "execution_count": 1,
   "metadata": {},
   "outputs": [],
   "source": [
    "import numpy as np\n",
    "import pandas as pd\n",
    "import seaborn as sb\n",
    "import matplotlib.pyplot as plt\n",
    "%matplotlib inline\n",
    "from mpl_toolkits.mplot3d import Axes3D\n",
    "from matplotlib import cm\n",
    "plt.rcParams['figure.figsize'] = (16, 9)\n",
    "plt.style.use('ggplot')\n",
    "from sklearn import linear_model\n",
    "from sklearn.metrics import mean_squared_error, r2_score"
   ]
  },
  {
   "cell_type": "code",
   "execution_count": 2,
   "metadata": {},
   "outputs": [],
   "source": [
    "df_produccion = pd.read_csv('datos_produccion_anual_35.csv')\n",
    "df_produccion = df_produccion[['fecha','esquila','kilos_lana']]\n",
    "df_produccion.fecha = pd.to_datetime(df_produccion.fecha)\n",
    "df_produccion['año'] = df_produccion.fecha.dt.year\n",
    "df_produccion = df_produccion[['año', 'esquila', 'kilos_lana']]"
   ]
  },
  {
   "cell_type": "markdown",
   "metadata": {},
   "source": [
    "La sonda 10 tiene los datos climaticos del Dique, que es lo mas cercano a los campos del productor de los datos de esquila."
   ]
  },
  {
   "cell_type": "code",
   "execution_count": 3,
   "metadata": {},
   "outputs": [],
   "source": [
    "df_clima = pd.read_csv('info_climatica_10.csv')\n",
    "df_clima.rename(columns={'temperatura_maxima':'t_min',\n",
    "                         'temperatura_media':'t_max',\n",
    "                         'temperatura_minima':'t_med'},inplace=True)\n",
    "df_clima = df_clima[['periodo','mm_lluvia']]\n",
    "df_clima.periodo = pd.to_datetime(df_clima.periodo)"
   ]
  },
  {
   "cell_type": "code",
   "execution_count": 4,
   "metadata": {},
   "outputs": [],
   "source": [
    "#Me quedo con los meses Enero, Febrero y Marzo de cada año para luego sumar los mm\n",
    "#de lluvia acumulados en esos meses y agrupar por año.\n",
    "\n",
    "df_clima = df_clima[df_clima.periodo.dt.month.isin([1,2,3])]\n",
    "df_clima['año'] = df_clima.periodo.dt.year\n",
    "df_clima=df_clima[['año','mm_lluvia']]\n",
    "\n",
    "#El año 2008 para este dataset de clima (sonda=10) no tiene datos por eso lo quito.\n",
    "df_clima = df_clima[~df_clima.año.isin([2008])]"
   ]
  },
  {
   "cell_type": "code",
   "execution_count": null,
   "metadata": {},
   "outputs": [],
   "source": []
  },
  {
   "cell_type": "code",
   "execution_count": 5,
   "metadata": {},
   "outputs": [],
   "source": [
    "c = df_clima.groupby('año')['mm_lluvia'].sum().reset_index()"
   ]
  },
  {
   "cell_type": "code",
   "execution_count": 6,
   "metadata": {},
   "outputs": [],
   "source": [
    "resul = pd.merge(c, df_produccion, left_on='año',right_on='año', how='inner')"
   ]
  },
  {
   "cell_type": "code",
   "execution_count": 7,
   "metadata": {},
   "outputs": [
    {
     "data": {
      "text/html": [
       "<div>\n",
       "<style scoped>\n",
       "    .dataframe tbody tr th:only-of-type {\n",
       "        vertical-align: middle;\n",
       "    }\n",
       "\n",
       "    .dataframe tbody tr th {\n",
       "        vertical-align: top;\n",
       "    }\n",
       "\n",
       "    .dataframe thead th {\n",
       "        text-align: right;\n",
       "    }\n",
       "</style>\n",
       "<table border=\"1\" class=\"dataframe\">\n",
       "  <thead>\n",
       "    <tr style=\"text-align: right;\">\n",
       "      <th></th>\n",
       "      <th>año</th>\n",
       "      <th>mm_lluvia</th>\n",
       "      <th>esquila</th>\n",
       "      <th>kilos_lana</th>\n",
       "    </tr>\n",
       "  </thead>\n",
       "  <tbody>\n",
       "    <tr>\n",
       "      <th>0</th>\n",
       "      <td>2010</td>\n",
       "      <td>67.4</td>\n",
       "      <td>2221</td>\n",
       "      <td>9164</td>\n",
       "    </tr>\n",
       "    <tr>\n",
       "      <th>1</th>\n",
       "      <td>2011</td>\n",
       "      <td>27.8</td>\n",
       "      <td>1651</td>\n",
       "      <td>6516</td>\n",
       "    </tr>\n",
       "    <tr>\n",
       "      <th>2</th>\n",
       "      <td>2012</td>\n",
       "      <td>72.6</td>\n",
       "      <td>1708</td>\n",
       "      <td>8376</td>\n",
       "    </tr>\n",
       "    <tr>\n",
       "      <th>3</th>\n",
       "      <td>2013</td>\n",
       "      <td>57.6</td>\n",
       "      <td>1976</td>\n",
       "      <td>9892</td>\n",
       "    </tr>\n",
       "    <tr>\n",
       "      <th>4</th>\n",
       "      <td>2014</td>\n",
       "      <td>14.0</td>\n",
       "      <td>2788</td>\n",
       "      <td>10510</td>\n",
       "    </tr>\n",
       "    <tr>\n",
       "      <th>5</th>\n",
       "      <td>2015</td>\n",
       "      <td>25.0</td>\n",
       "      <td>2738</td>\n",
       "      <td>10776</td>\n",
       "    </tr>\n",
       "    <tr>\n",
       "      <th>6</th>\n",
       "      <td>2016</td>\n",
       "      <td>27.6</td>\n",
       "      <td>3289</td>\n",
       "      <td>10990</td>\n",
       "    </tr>\n",
       "    <tr>\n",
       "      <th>7</th>\n",
       "      <td>2017</td>\n",
       "      <td>39.0</td>\n",
       "      <td>3484</td>\n",
       "      <td>11200</td>\n",
       "    </tr>\n",
       "    <tr>\n",
       "      <th>8</th>\n",
       "      <td>2018</td>\n",
       "      <td>6.6</td>\n",
       "      <td>2963</td>\n",
       "      <td>9193</td>\n",
       "    </tr>\n",
       "    <tr>\n",
       "      <th>9</th>\n",
       "      <td>2019</td>\n",
       "      <td>8.0</td>\n",
       "      <td>3520</td>\n",
       "      <td>13027</td>\n",
       "    </tr>\n",
       "  </tbody>\n",
       "</table>\n",
       "</div>"
      ],
      "text/plain": [
       "    año  mm_lluvia  esquila  kilos_lana\n",
       "0  2010       67.4     2221        9164\n",
       "1  2011       27.8     1651        6516\n",
       "2  2012       72.6     1708        8376\n",
       "3  2013       57.6     1976        9892\n",
       "4  2014       14.0     2788       10510\n",
       "5  2015       25.0     2738       10776\n",
       "6  2016       27.6     3289       10990\n",
       "7  2017       39.0     3484       11200\n",
       "8  2018        6.6     2963        9193\n",
       "9  2019        8.0     3520       13027"
      ]
     },
     "execution_count": 7,
     "metadata": {},
     "output_type": "execute_result"
    }
   ],
   "source": [
    "resul"
   ]
  },
  {
   "cell_type": "markdown",
   "metadata": {},
   "source": [
    "Variables independientes: \n",
    "- mm de lluvia acumulados en Enero, Febrero y marzo de cada año\n",
    "- Cantidad de animales esquilados\n",
    "\n",
    "Variables dependientes:\n",
    "- Kilos de Lana producidos"
   ]
  },
  {
   "cell_type": "code",
   "execution_count": 8,
   "metadata": {},
   "outputs": [],
   "source": [
    "X_multiple = resul[['mm_lluvia','esquila']]\n",
    "y_multiple = resul[['kilos_lana']]"
   ]
  },
  {
   "cell_type": "code",
   "execution_count": 18,
   "metadata": {},
   "outputs": [],
   "source": [
    "from sklearn.model_selection import train_test_split\n",
    "#Separo los datos de \"train\" en entrenamiento y prueba para probar los algoritmos\n",
    "X_train, X_test, y_train, y_test = train_test_split(X_multiple, y_multiple, test_size=0.4)"
   ]
  },
  {
   "cell_type": "code",
   "execution_count": 19,
   "metadata": {},
   "outputs": [],
   "source": [
    "lr_multiple = linear_model.LinearRegression()"
   ]
  },
  {
   "cell_type": "code",
   "execution_count": 20,
   "metadata": {},
   "outputs": [
    {
     "data": {
      "text/plain": [
       "LinearRegression()"
      ]
     },
     "execution_count": 20,
     "metadata": {},
     "output_type": "execute_result"
    }
   ],
   "source": [
    "lr_multiple.fit(X_train, y_train)\n",
    "#lr_multiple.fit(X_multiple, y_multiple)"
   ]
  },
  {
   "cell_type": "code",
   "execution_count": 21,
   "metadata": {},
   "outputs": [],
   "source": [
    "Y_pred_multiple = lr_multiple.predict(X_test)"
   ]
  },
  {
   "cell_type": "code",
   "execution_count": 29,
   "metadata": {},
   "outputs": [
    {
     "name": "stdout",
     "output_type": "stream",
     "text": [
      "Precisión del modelo:\n",
      "0.8352%\n"
     ]
    }
   ],
   "source": [
    "print('Precisión del modelo:')\n",
    "print(str(round(lr_multiple.score(X_train, y_train),4))+'%')"
   ]
  },
  {
   "cell_type": "code",
   "execution_count": 30,
   "metadata": {},
   "outputs": [
    {
     "data": {
      "image/png": "[encoded data removed]",
      "text/plain": [
       "<Figure size 432x288 with 1 Axes>"
      ]
     },
     "metadata": {
      "needs_background": "light"
     },
     "output_type": "display_data"
    }
   ],
   "source": [
    "plt.plot(range(len(y_test)),y_test,label=\"Real\")\n",
    "plt.plot(range(len(Y_pred_multiple)),Y_pred_multiple,label=\"Prediccion\")\n",
    " #Mostrar imagen\n",
    "plt.xlabel('muestras')\n",
    "# Set the y axis label of the current axis.\n",
    "plt.ylabel('kilos lana')\n",
    "# Set a title of the current axe\n",
    "# show a legend on the plot\n",
    "plt.legend()\n",
    "# Display a figure.\n",
    "plt.show()"
   ]
  },
  {
   "cell_type": "code",
   "execution_count": null,
   "metadata": {},
   "outputs": [],
   "source": []
  },
  {
   "cell_type": "code",
   "execution_count": null,
   "metadata": {},
   "outputs": [],
   "source": []
  }
 ],
 "metadata": {
  "kernelspec": {
   "display_name": "Python 3 (ipykernel)",
   "language": "python",
   "name": "python3"
  },
  "language_info": {
   "codemirror_mode": {
    "name": "ipython",
    "version": 3
   },
   "file_extension": ".py",
   "mimetype": "text/x-python",
   "name": "python",
   "nbconvert_exporter": "python",
   "pygments_lexer": "ipython3",
   "version": "3.8.3"
  }
 },
 "nbformat": 4,
 "nbformat_minor": 2
}
