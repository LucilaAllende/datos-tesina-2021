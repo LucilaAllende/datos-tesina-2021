{
 "cells": [
  {
   "cell_type": "markdown",
   "id": "cc6e3134",
   "metadata": {},
   "source": [
    "# Árbol de regresión Kilos Lana 2"
   ]
  },
  {
   "cell_type": "markdown",
   "id": "6f465f13",
   "metadata": {},
   "source": [
    "## Librerías"
   ]
  },
  {
   "cell_type": "code",
   "execution_count": 1,
   "id": "cea729e3",
   "metadata": {},
   "outputs": [],
   "source": [
    "# Tratamiento de datos\n",
    "# ------------------------------------------------------------------------------\n",
    "import numpy as np\n",
    "import pandas as pd\n",
    "\n",
    "# Gráficos\n",
    "# ------------------------------------------------------------------------------\n",
    "import matplotlib.pyplot as plt\n",
    "\n",
    "# Preprocesado y modelado\n",
    "# ------------------------------------------------------------------------------\n",
    "from sklearn.datasets import load_boston\n",
    "from sklearn.model_selection import train_test_split\n",
    "from sklearn.tree import DecisionTreeRegressor\n",
    "from sklearn.tree import plot_tree\n",
    "from sklearn.tree import export_graphviz\n",
    "from sklearn.tree import export_text\n",
    "from sklearn.model_selection import GridSearchCV\n",
    "from sklearn.metrics import mean_squared_error\n",
    "\n",
    "# Configuración warnings\n",
    "# ------------------------------------------------------------------------------\n",
    "import warnings\n",
    "warnings.filterwarnings('once')"
   ]
  },
  {
   "cell_type": "markdown",
   "id": "76144862",
   "metadata": {},
   "source": [
    "## Datos"
   ]
  },
  {
   "cell_type": "markdown",
   "id": "5b94b482",
   "metadata": {},
   "source": [
    "El set de datos son las variables de produccion y climaticas anuales. Se pretende ajustar un modelo de regresión que permita predecir la cantidad de Lana en función de las variables disponibles."
   ]
  },
  {
   "cell_type": "code",
   "execution_count": 2,
   "id": "a7143491",
   "metadata": {},
   "outputs": [
    {
     "data": {
      "text/html": [
       "<div>\n",
       "<style scoped>\n",
       "    .dataframe tbody tr th:only-of-type {\n",
       "        vertical-align: middle;\n",
       "    }\n",
       "\n",
       "    .dataframe tbody tr th {\n",
       "        vertical-align: top;\n",
       "    }\n",
       "\n",
       "    .dataframe thead th {\n",
       "        text-align: right;\n",
       "    }\n",
       "</style>\n",
       "<table border=\"1\" class=\"dataframe\">\n",
       "  <thead>\n",
       "    <tr style=\"text-align: right;\">\n",
       "      <th></th>\n",
       "      <th>fecha</th>\n",
       "      <th>esquila</th>\n",
       "      <th>ovejas</th>\n",
       "      <th>corderos</th>\n",
       "      <th>kilos_lana</th>\n",
       "      <th>rinde_seco</th>\n",
       "      <th>finura</th>\n",
       "      <th>kilo_lana_p/animal</th>\n",
       "      <th>porcentaje_paricion</th>\n",
       "      <th>temp_media</th>\n",
       "      <th>temp_min</th>\n",
       "      <th>tem_max</th>\n",
       "      <th>humedad</th>\n",
       "      <th>cant_lluvia</th>\n",
       "      <th>rad_solar</th>\n",
       "      <th>vel_viento</th>\n",
       "    </tr>\n",
       "  </thead>\n",
       "  <tbody>\n",
       "    <tr>\n",
       "      <th>0</th>\n",
       "      <td>31/12/1985</td>\n",
       "      <td>3514</td>\n",
       "      <td>1419</td>\n",
       "      <td>912</td>\n",
       "      <td>15600</td>\n",
       "      <td>60.46</td>\n",
       "      <td>19.26</td>\n",
       "      <td>4.44</td>\n",
       "      <td>64.27</td>\n",
       "      <td>14.3</td>\n",
       "      <td>6.4</td>\n",
       "      <td>20.9</td>\n",
       "      <td>0.0</td>\n",
       "      <td>208.6</td>\n",
       "      <td>4312.72</td>\n",
       "      <td>6.1</td>\n",
       "    </tr>\n",
       "    <tr>\n",
       "      <th>1</th>\n",
       "      <td>31/12/1986</td>\n",
       "      <td>3783</td>\n",
       "      <td>1520</td>\n",
       "      <td>680</td>\n",
       "      <td>18167</td>\n",
       "      <td>61.52</td>\n",
       "      <td>19.86</td>\n",
       "      <td>4.80</td>\n",
       "      <td>44.74</td>\n",
       "      <td>12.9</td>\n",
       "      <td>5.8</td>\n",
       "      <td>20.5</td>\n",
       "      <td>58.1</td>\n",
       "      <td>130.3</td>\n",
       "      <td>4236.36</td>\n",
       "      <td>6.8</td>\n",
       "    </tr>\n",
       "    <tr>\n",
       "      <th>2</th>\n",
       "      <td>31/12/1987</td>\n",
       "      <td>3988</td>\n",
       "      <td>1928</td>\n",
       "      <td>512</td>\n",
       "      <td>11200</td>\n",
       "      <td>55.77</td>\n",
       "      <td>19.41</td>\n",
       "      <td>2.81</td>\n",
       "      <td>26.56</td>\n",
       "      <td>13.8</td>\n",
       "      <td>6.8</td>\n",
       "      <td>20.7</td>\n",
       "      <td>60.3</td>\n",
       "      <td>199.5</td>\n",
       "      <td>4142.41</td>\n",
       "      <td>6.4</td>\n",
       "    </tr>\n",
       "  </tbody>\n",
       "</table>\n",
       "</div>"
      ],
      "text/plain": [
       "        fecha  esquila  ovejas  corderos  kilos_lana  rinde_seco  finura  \\\n",
       "0  31/12/1985     3514    1419       912       15600       60.46   19.26   \n",
       "1  31/12/1986     3783    1520       680       18167       61.52   19.86   \n",
       "2  31/12/1987     3988    1928       512       11200       55.77   19.41   \n",
       "\n",
       "   kilo_lana_p/animal  porcentaje_paricion  temp_media  temp_min  tem_max  \\\n",
       "0                4.44                64.27        14.3       6.4     20.9   \n",
       "1                4.80                44.74        12.9       5.8     20.5   \n",
       "2                2.81                26.56        13.8       6.8     20.7   \n",
       "\n",
       "   humedad  cant_lluvia  rad_solar  vel_viento  \n",
       "0      0.0        208.6    4312.72         6.1  \n",
       "1     58.1        130.3    4236.36         6.8  \n",
       "2     60.3        199.5    4142.41         6.4  "
      ]
     },
     "execution_count": 2,
     "metadata": {},
     "output_type": "execute_result"
    }
   ],
   "source": [
    "datos = pd.read_csv('datos_produccion_clima_35_1.csv', sep=\",\")\n",
    "datos.head(3)"
   ]
  },
  {
   "cell_type": "code",
   "execution_count": 3,
   "id": "91bc1464",
   "metadata": {},
   "outputs": [
    {
     "name": "stdout",
     "output_type": "stream",
     "text": [
      "<class 'pandas.core.frame.DataFrame'>\n",
      "RangeIndex: 36 entries, 0 to 35\n",
      "Data columns (total 16 columns):\n",
      " #   Column               Non-Null Count  Dtype  \n",
      "---  ------               --------------  -----  \n",
      " 0   fecha                36 non-null     object \n",
      " 1   esquila              36 non-null     int64  \n",
      " 2   ovejas               36 non-null     int64  \n",
      " 3   corderos             36 non-null     int64  \n",
      " 4   kilos_lana           36 non-null     int64  \n",
      " 5   rinde_seco           36 non-null     float64\n",
      " 6   finura               36 non-null     float64\n",
      " 7   kilo_lana_p/animal   36 non-null     float64\n",
      " 8   porcentaje_paricion  36 non-null     float64\n",
      " 9   temp_media           36 non-null     float64\n",
      " 10  temp_min             36 non-null     float64\n",
      " 11  tem_max              36 non-null     float64\n",
      " 12  humedad              36 non-null     float64\n",
      " 13  cant_lluvia          36 non-null     float64\n",
      " 14  rad_solar            36 non-null     float64\n",
      " 15  vel_viento           36 non-null     float64\n",
      "dtypes: float64(11), int64(4), object(1)\n",
      "memory usage: 4.6+ KB\n"
     ]
    }
   ],
   "source": [
    "datos.info()"
   ]
  },
  {
   "cell_type": "markdown",
   "id": "7462e0ff",
   "metadata": {},
   "source": [
    "## Ajuste del modelo"
   ]
  },
  {
   "cell_type": "markdown",
   "id": "4d41e127",
   "metadata": {},
   "source": [
    "La clase DecisionTreeRegressor del módulo sklearn.tree permite entrenar árboles de decisión para problemas de regresión. A continuación, se ajusta un árbol de regresión empleando como variable respuesta **kilos_lana** y como predictores todas las otras variables disponibles.\n",
    "\n",
    "Como en todo estudio de regresión, no solo es importante ajustar el modelo, sino también cuantificar su capacidad para predecir nuevas observaciones. Para poder hacer la posterior evaluación, se dividen los datos en dos grupos, uno de entrenamiento y otro de test."
   ]
  },
  {
   "cell_type": "code",
   "execution_count": 4,
   "id": "05534ff2",
   "metadata": {},
   "outputs": [],
   "source": [
    "# División de los datos en train y test\n",
    "# ------------------------------------------------------------------------------\n",
    "X_train, X_test, y_train, y_test = train_test_split(\n",
    "                                        datos.drop(columns = [\"kilos_lana\", \"fecha\"]),\n",
    "                                        datos['kilos_lana'],\n",
    "                                        random_state = 123\n",
    "                                    )"
   ]
  },
  {
   "cell_type": "code",
   "execution_count": 5,
   "id": "8849d484",
   "metadata": {},
   "outputs": [],
   "source": [
    "# Creación del modelo\n",
    "# ------------------------------------------------------------------------------\n",
    "modelo = DecisionTreeRegressor(\n",
    "            max_depth         = 3,\n",
    "            random_state      = 123\n",
    "          )"
   ]
  },
  {
   "cell_type": "code",
   "execution_count": 6,
   "id": "57ef1441",
   "metadata": {},
   "outputs": [
    {
     "data": {
      "text/plain": [
       "DecisionTreeRegressor(max_depth=3, random_state=123)"
      ]
     },
     "execution_count": 6,
     "metadata": {},
     "output_type": "execute_result"
    }
   ],
   "source": [
    "# Entrenamiento del modelo\n",
    "# ------------------------------------------------------------------------------\n",
    "modelo.fit(X_train, y_train)"
   ]
  },
  {
   "cell_type": "markdown",
   "id": "f1a1a5d8",
   "metadata": {},
   "source": [
    "Una vez entrenado el árbol, se puede representar mediante la combinación de las funciones plot_tree() y export_text(). La función plot_tree() dibuja la estructura del árbol y muestra el número de observaciones y valor medio de la variable respuesta en cada nodo. La función export_text() representa esta misma información en formato texto"
   ]
  },
  {
   "cell_type": "code",
   "execution_count": 7,
   "id": "66908277",
   "metadata": {},
   "outputs": [
    {
     "name": "stdout",
     "output_type": "stream",
     "text": [
      "Profundidad del árbol: 3\n",
      "Número de nodos terminales: 8\n"
     ]
    },
    {
     "data": {
      "image/png": "[encoded data removed]",
      "text/plain": [
       "<Figure size 864x360 with 1 Axes>"
      ]
     },
     "metadata": {
      "needs_background": "light"
     },
     "output_type": "display_data"
    }
   ],
   "source": [
    "# Estructura del árbol creado\n",
    "# ------------------------------------------------------------------------------\n",
    "fig, ax = plt.subplots(figsize=(12, 5))\n",
    "\n",
    "print(f\"Profundidad del árbol: {modelo.get_depth()}\")\n",
    "print(f\"Número de nodos terminales: {modelo.get_n_leaves()}\")\n",
    "\n",
    "plot = plot_tree(\n",
    "            decision_tree = modelo,\n",
    "            feature_names = datos.drop(columns = [\"kilos_lana\",\"fecha\"]).columns,\n",
    "            class_names   = 'kilos_lana',\n",
    "            filled        = True,\n",
    "            impurity      = False,\n",
    "            fontsize      = 10,\n",
    "            precision     = 2,\n",
    "            ax            = ax\n",
    "       )"
   ]
  },
  {
   "cell_type": "code",
   "execution_count": 8,
   "id": "d539cb96",
   "metadata": {},
   "outputs": [
    {
     "name": "stdout",
     "output_type": "stream",
     "text": [
      "|--- esquila <= 2981.50\n",
      "|   |--- ovejas <= 1113.00\n",
      "|   |   |--- finura <= 18.64\n",
      "|   |   |   |--- value: [6516.00]\n",
      "|   |   |--- finura >  18.64\n",
      "|   |   |   |--- value: [9034.20]\n",
      "|   |--- ovejas >  1113.00\n",
      "|   |   |--- humedad <= 56.15\n",
      "|   |   |   |--- value: [10102.50]\n",
      "|   |   |--- humedad >  56.15\n",
      "|   |   |   |--- value: [11950.00]\n",
      "|--- esquila >  2981.50\n",
      "|   |--- kilo_lana_p/animal <= 3.71\n",
      "|   |   |--- kilo_lana_p/animal <= 3.48\n",
      "|   |   |   |--- value: [11089.25]\n",
      "|   |   |--- kilo_lana_p/animal >  3.48\n",
      "|   |   |   |--- value: [12786.67]\n",
      "|   |--- kilo_lana_p/animal >  3.71\n",
      "|   |   |--- corderos <= 613.50\n",
      "|   |   |   |--- value: [13669.00]\n",
      "|   |   |--- corderos >  613.50\n",
      "|   |   |   |--- value: [16845.40]\n",
      "\n"
     ]
    }
   ],
   "source": [
    "texto_modelo = export_text(\n",
    "                    decision_tree = modelo,\n",
    "                    feature_names = list(datos.drop(columns = [\"kilos_lana\",\"fecha\"]).columns)\n",
    "               )\n",
    "print(texto_modelo)"
   ]
  },
  {
   "cell_type": "markdown",
   "id": "d6d2c280",
   "metadata": {},
   "source": [
    "Siguiendo la rama más a la izquierda del árbol, puede verse que el modelo predice un precio promedio de 9034 kilos de lana a partir de esquila <= 2981.50, ovejas <= 1113.00 y un finura <= 18.64."
   ]
  },
  {
   "cell_type": "markdown",
   "id": "97a5a84f",
   "metadata": {},
   "source": [
    "## Importancia de predictores"
   ]
  },
  {
   "cell_type": "markdown",
   "id": "d1345b73",
   "metadata": {},
   "source": [
    "La importancia de cada predictor en modelo se calcula como la reducción total (normalizada) en el criterio de división, en este caso el mse, que consigue el predictor en las divisiones en las que participa. Si un predictor no ha sido seleccionado en ninguna divisón, no se ha incluido en el modelo y por lo tanto su importancia es 0."
   ]
  },
  {
   "cell_type": "code",
   "execution_count": 9,
   "id": "c5f38fe5",
   "metadata": {},
   "outputs": [
    {
     "name": "stdout",
     "output_type": "stream",
     "text": [
      "Importancia de los predictores en el modelo\n",
      "-------------------------------------------\n"
     ]
    },
    {
     "data": {
      "text/html": [
       "<div>\n",
       "<style scoped>\n",
       "    .dataframe tbody tr th:only-of-type {\n",
       "        vertical-align: middle;\n",
       "    }\n",
       "\n",
       "    .dataframe tbody tr th {\n",
       "        vertical-align: top;\n",
       "    }\n",
       "\n",
       "    .dataframe thead th {\n",
       "        text-align: right;\n",
       "    }\n",
       "</style>\n",
       "<table border=\"1\" class=\"dataframe\">\n",
       "  <thead>\n",
       "    <tr style=\"text-align: right;\">\n",
       "      <th></th>\n",
       "      <th>predictor</th>\n",
       "      <th>importancia</th>\n",
       "    </tr>\n",
       "  </thead>\n",
       "  <tbody>\n",
       "    <tr>\n",
       "      <th>0</th>\n",
       "      <td>esquila</td>\n",
       "      <td>0.535282</td>\n",
       "    </tr>\n",
       "    <tr>\n",
       "      <th>5</th>\n",
       "      <td>kilo_lana_p/animal</td>\n",
       "      <td>0.273126</td>\n",
       "    </tr>\n",
       "    <tr>\n",
       "      <th>2</th>\n",
       "      <td>corderos</td>\n",
       "      <td>0.086233</td>\n",
       "    </tr>\n",
       "    <tr>\n",
       "      <th>1</th>\n",
       "      <td>ovejas</td>\n",
       "      <td>0.060526</td>\n",
       "    </tr>\n",
       "    <tr>\n",
       "      <th>4</th>\n",
       "      <td>finura</td>\n",
       "      <td>0.024088</td>\n",
       "    </tr>\n",
       "    <tr>\n",
       "      <th>10</th>\n",
       "      <td>humedad</td>\n",
       "      <td>0.020745</td>\n",
       "    </tr>\n",
       "    <tr>\n",
       "      <th>3</th>\n",
       "      <td>rinde_seco</td>\n",
       "      <td>0.000000</td>\n",
       "    </tr>\n",
       "    <tr>\n",
       "      <th>6</th>\n",
       "      <td>porcentaje_paricion</td>\n",
       "      <td>0.000000</td>\n",
       "    </tr>\n",
       "    <tr>\n",
       "      <th>7</th>\n",
       "      <td>temp_media</td>\n",
       "      <td>0.000000</td>\n",
       "    </tr>\n",
       "    <tr>\n",
       "      <th>8</th>\n",
       "      <td>temp_min</td>\n",
       "      <td>0.000000</td>\n",
       "    </tr>\n",
       "    <tr>\n",
       "      <th>9</th>\n",
       "      <td>tem_max</td>\n",
       "      <td>0.000000</td>\n",
       "    </tr>\n",
       "    <tr>\n",
       "      <th>11</th>\n",
       "      <td>cant_lluvia</td>\n",
       "      <td>0.000000</td>\n",
       "    </tr>\n",
       "    <tr>\n",
       "      <th>12</th>\n",
       "      <td>rad_solar</td>\n",
       "      <td>0.000000</td>\n",
       "    </tr>\n",
       "    <tr>\n",
       "      <th>13</th>\n",
       "      <td>vel_viento</td>\n",
       "      <td>0.000000</td>\n",
       "    </tr>\n",
       "  </tbody>\n",
       "</table>\n",
       "</div>"
      ],
      "text/plain": [
       "              predictor  importancia\n",
       "0               esquila     0.535282\n",
       "5    kilo_lana_p/animal     0.273126\n",
       "2              corderos     0.086233\n",
       "1                ovejas     0.060526\n",
       "4                finura     0.024088\n",
       "10              humedad     0.020745\n",
       "3            rinde_seco     0.000000\n",
       "6   porcentaje_paricion     0.000000\n",
       "7            temp_media     0.000000\n",
       "8              temp_min     0.000000\n",
       "9               tem_max     0.000000\n",
       "11          cant_lluvia     0.000000\n",
       "12            rad_solar     0.000000\n",
       "13           vel_viento     0.000000"
      ]
     },
     "execution_count": 9,
     "metadata": {},
     "output_type": "execute_result"
    }
   ],
   "source": [
    "importancia_predictores = pd.DataFrame(\n",
    "                            {'predictor': datos.drop(columns = [\"kilos_lana\",\"fecha\"]).columns,\n",
    "                             'importancia': modelo.feature_importances_}\n",
    "                            )\n",
    "print(\"Importancia de los predictores en el modelo\")\n",
    "print(\"-------------------------------------------\")\n",
    "importancia_predictores.sort_values('importancia', ascending=False)"
   ]
  },
  {
   "cell_type": "markdown",
   "id": "7d90aceb",
   "metadata": {},
   "source": [
    "El predictor esquila, el número de animales esquilados, ha resultado ser el predictor más importante en el modelo, seguido de kilo_lana_p/animal, que mide la cantidad de kilo de lana por animal."
   ]
  },
  {
   "cell_type": "markdown",
   "id": "a9c52809",
   "metadata": {},
   "source": [
    "## Podado del árbol (pruning)"
   ]
  },
  {
   "cell_type": "markdown",
   "id": "04419f37",
   "metadata": {},
   "source": [
    "Con la finalidad de reducir la varianza del modelo y así mejorar la capacidad predictiva, se somete al árbol a un proceso de pruning. Para aplicar el proceso de pruning es necesario indicar el argumento ccp_alpha que determina el grado de penalización por complejidad. Cuanto mayor es este valor, más agresivo el podado y menor el tamaño del árbol resultante."
   ]
  },
  {
   "cell_type": "code",
   "execution_count": 10,
   "id": "162b1ffd",
   "metadata": {},
   "outputs": [
    {
     "data": {
      "image/png": "[encoded data removed]",
      "text/plain": [
       "<Figure size 432x276.48 with 1 Axes>"
      ]
     },
     "metadata": {
      "needs_background": "light"
     },
     "output_type": "display_data"
    }
   ],
   "source": [
    "# Pruning (const complexity pruning) por validación cruzada\n",
    "# ------------------------------------------------------------------------------\n",
    "# Valores de ccp_alpha evaluados\n",
    "param_grid = {'ccp_alpha':np.linspace(0, 80, 20)}\n",
    "\n",
    "# Búsqueda por validación cruzada\n",
    "grid = GridSearchCV(\n",
    "        # El árbol se crece al máximo posible para luego aplicar el pruning\n",
    "        estimator = DecisionTreeRegressor(\n",
    "                            max_depth         = None,\n",
    "                            min_samples_split = 2,\n",
    "                            min_samples_leaf  = 1,\n",
    "                            random_state      = 123\n",
    "                       ),\n",
    "        param_grid = param_grid,\n",
    "        cv         = 10,\n",
    "        refit      = True,\n",
    "        return_train_score = True\n",
    "      )\n",
    "\n",
    "grid.fit(X_train, y_train)\n",
    "\n",
    "fig, ax = plt.subplots(figsize=(6, 3.84))\n",
    "scores = pd.DataFrame(grid.cv_results_)\n",
    "scores.plot(x='param_ccp_alpha', y='mean_train_score', yerr='std_train_score', ax=ax)\n",
    "scores.plot(x='param_ccp_alpha', y='mean_test_score', yerr='std_test_score', ax=ax)\n",
    "ax.set_title(\"Error de validacion cruzada vs hiperparámetro ccp_alpha\");"
   ]
  },
  {
   "cell_type": "code",
   "execution_count": 11,
   "id": "204c5f73",
   "metadata": {},
   "outputs": [
    {
     "data": {
      "text/plain": [
       "{'ccp_alpha': 4.2105263157894735}"
      ]
     },
     "execution_count": 11,
     "metadata": {},
     "output_type": "execute_result"
    }
   ],
   "source": [
    "# Mejor valor ccp_alpha encontrado\n",
    "# ------------------------------------------------------------------------------\n",
    "grid.best_params_"
   ]
  },
  {
   "cell_type": "markdown",
   "id": "2d547118",
   "metadata": {},
   "source": [
    "Una vez identificado el valor óptimo de ccp_alpha, se reentrena el árbol indicando este valor en sus argumentos."
   ]
  },
  {
   "cell_type": "code",
   "execution_count": 12,
   "id": "95020686",
   "metadata": {},
   "outputs": [
    {
     "name": "stdout",
     "output_type": "stream",
     "text": [
      "Profundidad del árbol: 6\n",
      "Número de nodos terminales: 26\n"
     ]
    },
    {
     "data": {
      "image/png": "[encoded data removed]",
      "text/plain": [
       "<Figure size 504x360 with 1 Axes>"
      ]
     },
     "metadata": {
      "needs_background": "light"
     },
     "output_type": "display_data"
    }
   ],
   "source": [
    "# Estructura del árbol final\n",
    "# ------------------------------------------------------------------------------\n",
    "modelo_final = grid.best_estimator_\n",
    "print(f\"Profundidad del árbol: {modelo_final.get_depth()}\")\n",
    "print(f\"Número de nodos terminales: {modelo_final.get_n_leaves()}\")\n",
    "\n",
    "fig, ax = plt.subplots(figsize=(7, 5))\n",
    "plot = plot_tree(\n",
    "            decision_tree = modelo_final,\n",
    "            feature_names = datos.drop(columns = [\"kilos_lana\",\"fecha\"]).columns,\n",
    "            class_names   = 'kilos_lana\"',\n",
    "            filled        = True,\n",
    "            impurity      = False,\n",
    "            ax            = ax\n",
    "       )"
   ]
  },
  {
   "cell_type": "markdown",
   "id": "6a9ae00b",
   "metadata": {},
   "source": [
    "El proceso de pruning a identificado como mejor árbol uno mucho más grande que el modelo inicialmente entrenado."
   ]
  },
  {
   "cell_type": "markdown",
   "id": "fa4c0dd9",
   "metadata": {},
   "source": [
    "## Predicción y evaluación del modelo"
   ]
  },
  {
   "cell_type": "markdown",
   "id": "b21ecd99",
   "metadata": {},
   "source": [
    "Por último, se evalúa la capacidad predictiva del primer árbol y del árbol final empleando el conjunto de test."
   ]
  },
  {
   "cell_type": "code",
   "execution_count": 13,
   "id": "b9601721",
   "metadata": {},
   "outputs": [
    {
     "name": "stdout",
     "output_type": "stream",
     "text": [
      "El error (rmse) de test es: 3124.692335165887\n"
     ]
    }
   ],
   "source": [
    "# Error de test del modelo inicial\n",
    "#-------------------------------------------------------------------------------\n",
    "predicciones = modelo.predict(X = X_test)\n",
    "\n",
    "rmse = mean_squared_error(\n",
    "        y_true  = y_test,\n",
    "        y_pred  = predicciones,\n",
    "        squared = False\n",
    "       )\n",
    "print(f\"El error (rmse) de test es: {rmse}\")"
   ]
  },
  {
   "cell_type": "code",
   "execution_count": 14,
   "id": "6b2895a6",
   "metadata": {},
   "outputs": [
    {
     "name": "stdout",
     "output_type": "stream",
     "text": [
      "El error (rmse) de test es: 3417.9558543407525\n"
     ]
    }
   ],
   "source": [
    "# Error de test del modelo final (tras aplicar pruning)\n",
    "#-------------------------------------------------------------------------------\n",
    "predicciones = modelo_final.predict(X = X_test)\n",
    "\n",
    "rmse = mean_squared_error(\n",
    "        y_true  = y_test,\n",
    "        y_pred  = predicciones,\n",
    "        squared = False\n",
    "       )\n",
    "print(f\"El error (rmse) de test es: {rmse}\")"
   ]
  },
  {
   "cell_type": "markdown",
   "id": "32bda089",
   "metadata": {},
   "source": [
    "El proceso de pruning consigue aumentar el error rmse del modelo de 3124.6 a 3417.95. Las predicciones del modelo final se alejan en promedio 3417.95 unidades del valor real (3417.95 kilos espero)."
   ]
  }
 ],
 "metadata": {
  "kernelspec": {
   "display_name": "Python 3 (ipykernel)",
   "language": "python",
   "name": "python3"
  },
  "language_info": {
   "codemirror_mode": {
    "name": "ipython",
    "version": 3
   },
   "file_extension": ".py",
   "mimetype": "text/x-python",
   "name": "python",
   "nbconvert_exporter": "python",
   "pygments_lexer": "ipython3",
   "version": "3.8.3"
  }
 },
 "nbformat": 4,
 "nbformat_minor": 5
}
