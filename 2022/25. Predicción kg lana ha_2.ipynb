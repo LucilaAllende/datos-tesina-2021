{
 "cells": [
  {
   "cell_type": "markdown",
   "id": "4ac59da2",
   "metadata": {
    "id": "4ac59da2"
   },
   "source": [
    "# Gráficos y métricas RM - Dataset 1"
   ]
  },
  {
   "cell_type": "code",
   "execution_count": 5,
   "id": "86f384d0",
   "metadata": {
    "executionInfo": {
     "elapsed": 560,
     "status": "ok",
     "timestamp": 1664390386570,
     "user": {
      "displayName": "Lucila Allende",
      "userId": "00372317538275967677"
     },
     "user_tz": 180
    },
    "id": "86f384d0"
   },
   "outputs": [],
   "source": [
    "import numpy as np\n",
    "import pandas as pd\n",
    "\n",
    "from statsmodels.iolib.smpickle import save_pickle\n",
    "\n",
    "from sklearn import linear_model\n",
    "from sklearn.compose import ColumnTransformer\n",
    "from sklearn.preprocessing import StandardScaler\n",
    "from sklearn.model_selection import train_test_split\n",
    "from sklearn.metrics import mean_squared_error, r2_score, explained_variance_score, mean_absolute_error\n",
    "\n",
    "import matplotlib.pyplot as plt\n",
    "from mpl_toolkits.mplot3d import Axes3D\n",
    "import seaborn as sns\n",
    "\n",
    "%matplotlib inline"
   ]
  },
  {
   "cell_type": "code",
   "execution_count": 6,
   "id": "c528a622",
   "metadata": {
    "colab": {
     "base_uri": "https://localhost:8080/",
     "height": 661
    },
    "executionInfo": {
     "elapsed": 373,
     "status": "ok",
     "timestamp": 1664388402662,
     "user": {
      "displayName": "Lucila Allende",
      "userId": "00372317538275967677"
     },
     "user_tz": 180
    },
    "id": "c528a622",
    "outputId": "ec7c6624-373c-43c1-bcc8-53a545776375"
   },
   "outputs": [
    {
     "data": {
      "text/html": [
       "<div>\n",
       "<style scoped>\n",
       "    .dataframe tbody tr th:only-of-type {\n",
       "        vertical-align: middle;\n",
       "    }\n",
       "\n",
       "    .dataframe tbody tr th {\n",
       "        vertical-align: top;\n",
       "    }\n",
       "\n",
       "    .dataframe thead th {\n",
       "        text-align: right;\n",
       "    }\n",
       "</style>\n",
       "<table border=\"1\" class=\"dataframe\">\n",
       "  <thead>\n",
       "    <tr style=\"text-align: right;\">\n",
       "      <th></th>\n",
       "      <th>fecha</th>\n",
       "      <th>hectareas</th>\n",
       "      <th>departamento</th>\n",
       "      <th>carneros</th>\n",
       "      <th>ovejas</th>\n",
       "      <th>borregos</th>\n",
       "      <th>capones</th>\n",
       "      <th>cordero/as</th>\n",
       "      <th>total_ovinos</th>\n",
       "      <th>kilos_lana</th>\n",
       "      <th>finura</th>\n",
       "      <th>rinde</th>\n",
       "      <th>humedad</th>\n",
       "      <th>cant_lluvia</th>\n",
       "      <th>tem_max</th>\n",
       "      <th>temp_media</th>\n",
       "      <th>temp_min</th>\n",
       "    </tr>\n",
       "  </thead>\n",
       "  <tbody>\n",
       "    <tr>\n",
       "      <th>0</th>\n",
       "      <td>2012-12-31</td>\n",
       "      <td>1294000</td>\n",
       "      <td>BIEDMA</td>\n",
       "      <td>5785</td>\n",
       "      <td>93378</td>\n",
       "      <td>30168</td>\n",
       "      <td>48447</td>\n",
       "      <td>16071</td>\n",
       "      <td>193849</td>\n",
       "      <td>649130.0</td>\n",
       "      <td>19.80</td>\n",
       "      <td>58.06</td>\n",
       "      <td>58.40</td>\n",
       "      <td>46.40</td>\n",
       "      <td>18.10</td>\n",
       "      <td>12.40</td>\n",
       "      <td>6.70</td>\n",
       "    </tr>\n",
       "    <tr>\n",
       "      <th>1</th>\n",
       "      <td>2013-12-31</td>\n",
       "      <td>1294000</td>\n",
       "      <td>BIEDMA</td>\n",
       "      <td>5376</td>\n",
       "      <td>82998</td>\n",
       "      <td>25341</td>\n",
       "      <td>47350</td>\n",
       "      <td>26832</td>\n",
       "      <td>187897</td>\n",
       "      <td>620176.0</td>\n",
       "      <td>19.60</td>\n",
       "      <td>56.68</td>\n",
       "      <td>64.70</td>\n",
       "      <td>226.50</td>\n",
       "      <td>19.90</td>\n",
       "      <td>14.20</td>\n",
       "      <td>8.80</td>\n",
       "    </tr>\n",
       "    <tr>\n",
       "      <th>2</th>\n",
       "      <td>2014-12-31</td>\n",
       "      <td>1294000</td>\n",
       "      <td>BIEDMA</td>\n",
       "      <td>4785</td>\n",
       "      <td>82706</td>\n",
       "      <td>29379</td>\n",
       "      <td>35155</td>\n",
       "      <td>29900</td>\n",
       "      <td>181925</td>\n",
       "      <td>649130.0</td>\n",
       "      <td>20.10</td>\n",
       "      <td>61.19</td>\n",
       "      <td>60.50</td>\n",
       "      <td>331.30</td>\n",
       "      <td>20.60</td>\n",
       "      <td>14.70</td>\n",
       "      <td>9.20</td>\n",
       "    </tr>\n",
       "    <tr>\n",
       "      <th>3</th>\n",
       "      <td>2015-12-31</td>\n",
       "      <td>1294000</td>\n",
       "      <td>BIEDMA</td>\n",
       "      <td>4440</td>\n",
       "      <td>89262</td>\n",
       "      <td>29663</td>\n",
       "      <td>35437</td>\n",
       "      <td>32343</td>\n",
       "      <td>191145</td>\n",
       "      <td>672480.0</td>\n",
       "      <td>18.58</td>\n",
       "      <td>58.18</td>\n",
       "      <td>58.70</td>\n",
       "      <td>114.20</td>\n",
       "      <td>22.20</td>\n",
       "      <td>15.80</td>\n",
       "      <td>10.20</td>\n",
       "    </tr>\n",
       "    <tr>\n",
       "      <th>4</th>\n",
       "      <td>2016-12-31</td>\n",
       "      <td>1294000</td>\n",
       "      <td>BIEDMA</td>\n",
       "      <td>4452</td>\n",
       "      <td>82295</td>\n",
       "      <td>33662</td>\n",
       "      <td>33470</td>\n",
       "      <td>21326</td>\n",
       "      <td>175205</td>\n",
       "      <td>653800.0</td>\n",
       "      <td>17.99</td>\n",
       "      <td>59.93</td>\n",
       "      <td>57.50</td>\n",
       "      <td>88.90</td>\n",
       "      <td>25.20</td>\n",
       "      <td>18.60</td>\n",
       "      <td>12.90</td>\n",
       "    </tr>\n",
       "    <tr>\n",
       "      <th>...</th>\n",
       "      <td>...</td>\n",
       "      <td>...</td>\n",
       "      <td>...</td>\n",
       "      <td>...</td>\n",
       "      <td>...</td>\n",
       "      <td>...</td>\n",
       "      <td>...</td>\n",
       "      <td>...</td>\n",
       "      <td>...</td>\n",
       "      <td>...</td>\n",
       "      <td>...</td>\n",
       "      <td>...</td>\n",
       "      <td>...</td>\n",
       "      <td>...</td>\n",
       "      <td>...</td>\n",
       "      <td>...</td>\n",
       "      <td>...</td>\n",
       "    </tr>\n",
       "    <tr>\n",
       "      <th>196</th>\n",
       "      <td>2016-12-31</td>\n",
       "      <td>1989300</td>\n",
       "      <td>TELSEN</td>\n",
       "      <td>4896</td>\n",
       "      <td>80262</td>\n",
       "      <td>26471</td>\n",
       "      <td>39243</td>\n",
       "      <td>20290</td>\n",
       "      <td>171162</td>\n",
       "      <td>637000.0</td>\n",
       "      <td>20.20</td>\n",
       "      <td>53.55</td>\n",
       "      <td>50.80</td>\n",
       "      <td>273.33</td>\n",
       "      <td>17.47</td>\n",
       "      <td>11.57</td>\n",
       "      <td>5.77</td>\n",
       "    </tr>\n",
       "    <tr>\n",
       "      <th>197</th>\n",
       "      <td>2017-12-31</td>\n",
       "      <td>1989300</td>\n",
       "      <td>TELSEN</td>\n",
       "      <td>4640</td>\n",
       "      <td>77556</td>\n",
       "      <td>27296</td>\n",
       "      <td>36570</td>\n",
       "      <td>17750</td>\n",
       "      <td>163812</td>\n",
       "      <td>637000.0</td>\n",
       "      <td>19.11</td>\n",
       "      <td>56.01</td>\n",
       "      <td>47.17</td>\n",
       "      <td>220.03</td>\n",
       "      <td>16.60</td>\n",
       "      <td>10.93</td>\n",
       "      <td>5.03</td>\n",
       "    </tr>\n",
       "    <tr>\n",
       "      <th>198</th>\n",
       "      <td>2018-12-31</td>\n",
       "      <td>1989300</td>\n",
       "      <td>TELSEN</td>\n",
       "      <td>4832</td>\n",
       "      <td>79117</td>\n",
       "      <td>28366</td>\n",
       "      <td>37558</td>\n",
       "      <td>21933</td>\n",
       "      <td>171806</td>\n",
       "      <td>637000.0</td>\n",
       "      <td>20.38</td>\n",
       "      <td>54.64</td>\n",
       "      <td>47.93</td>\n",
       "      <td>201.40</td>\n",
       "      <td>17.63</td>\n",
       "      <td>11.33</td>\n",
       "      <td>5.03</td>\n",
       "    </tr>\n",
       "    <tr>\n",
       "      <th>199</th>\n",
       "      <td>2019-12-31</td>\n",
       "      <td>1989300</td>\n",
       "      <td>TELSEN</td>\n",
       "      <td>4781</td>\n",
       "      <td>80109</td>\n",
       "      <td>28428</td>\n",
       "      <td>38109</td>\n",
       "      <td>17731</td>\n",
       "      <td>169158</td>\n",
       "      <td>613021.5</td>\n",
       "      <td>16.88</td>\n",
       "      <td>53.83</td>\n",
       "      <td>47.57</td>\n",
       "      <td>119.47</td>\n",
       "      <td>17.53</td>\n",
       "      <td>11.17</td>\n",
       "      <td>4.83</td>\n",
       "    </tr>\n",
       "    <tr>\n",
       "      <th>200</th>\n",
       "      <td>2020-12-31</td>\n",
       "      <td>1989300</td>\n",
       "      <td>TELSEN</td>\n",
       "      <td>2870</td>\n",
       "      <td>79157</td>\n",
       "      <td>25804</td>\n",
       "      <td>36901</td>\n",
       "      <td>18984</td>\n",
       "      <td>163716</td>\n",
       "      <td>614250.0</td>\n",
       "      <td>21.55</td>\n",
       "      <td>52.96</td>\n",
       "      <td>46.63</td>\n",
       "      <td>101.47</td>\n",
       "      <td>16.60</td>\n",
       "      <td>10.60</td>\n",
       "      <td>4.60</td>\n",
       "    </tr>\n",
       "  </tbody>\n",
       "</table>\n",
       "<p>201 rows × 17 columns</p>\n",
       "</div>"
      ],
      "text/plain": [
       "          fecha  hectareas departamento  carneros  ovejas  borregos  capones  \\\n",
       "0    2012-12-31    1294000       BIEDMA      5785   93378     30168    48447   \n",
       "1    2013-12-31    1294000       BIEDMA      5376   82998     25341    47350   \n",
       "2    2014-12-31    1294000       BIEDMA      4785   82706     29379    35155   \n",
       "3    2015-12-31    1294000       BIEDMA      4440   89262     29663    35437   \n",
       "4    2016-12-31    1294000       BIEDMA      4452   82295     33662    33470   \n",
       "..          ...        ...          ...       ...     ...       ...      ...   \n",
       "196  2016-12-31    1989300       TELSEN      4896   80262     26471    39243   \n",
       "197  2017-12-31    1989300       TELSEN      4640   77556     27296    36570   \n",
       "198  2018-12-31    1989300       TELSEN      4832   79117     28366    37558   \n",
       "199  2019-12-31    1989300       TELSEN      4781   80109     28428    38109   \n",
       "200  2020-12-31    1989300       TELSEN      2870   79157     25804    36901   \n",
       "\n",
       "     cordero/as  total_ovinos  kilos_lana  finura  rinde  humedad  \\\n",
       "0         16071        193849    649130.0   19.80  58.06    58.40   \n",
       "1         26832        187897    620176.0   19.60  56.68    64.70   \n",
       "2         29900        181925    649130.0   20.10  61.19    60.50   \n",
       "3         32343        191145    672480.0   18.58  58.18    58.70   \n",
       "4         21326        175205    653800.0   17.99  59.93    57.50   \n",
       "..          ...           ...         ...     ...    ...      ...   \n",
       "196       20290        171162    637000.0   20.20  53.55    50.80   \n",
       "197       17750        163812    637000.0   19.11  56.01    47.17   \n",
       "198       21933        171806    637000.0   20.38  54.64    47.93   \n",
       "199       17731        169158    613021.5   16.88  53.83    47.57   \n",
       "200       18984        163716    614250.0   21.55  52.96    46.63   \n",
       "\n",
       "     cant_lluvia  tem_max  temp_media  temp_min  \n",
       "0          46.40    18.10       12.40      6.70  \n",
       "1         226.50    19.90       14.20      8.80  \n",
       "2         331.30    20.60       14.70      9.20  \n",
       "3         114.20    22.20       15.80     10.20  \n",
       "4          88.90    25.20       18.60     12.90  \n",
       "..           ...      ...         ...       ...  \n",
       "196       273.33    17.47       11.57      5.77  \n",
       "197       220.03    16.60       10.93      5.03  \n",
       "198       201.40    17.63       11.33      5.03  \n",
       "199       119.47    17.53       11.17      4.83  \n",
       "200       101.47    16.60       10.60      4.60  \n",
       "\n",
       "[201 rows x 17 columns]"
      ]
     },
     "execution_count": 6,
     "metadata": {},
     "output_type": "execute_result"
    }
   ],
   "source": [
    "dataset = pd.read_csv(\"datos_producidos/datos_dptp_ha.csv\")\n",
    "dataset"
   ]
  },
  {
   "cell_type": "code",
   "execution_count": 7,
   "id": "7d30245d",
   "metadata": {},
   "outputs": [
    {
     "data": {
      "text/plain": [
       "<AxesSubplot:>"
      ]
     },
     "execution_count": 7,
     "metadata": {},
     "output_type": "execute_result"
    },
    {
     "data": {
      "image/png": "[encoded data removed]",
      "text/plain": [
       "<Figure size 432x288 with 1 Axes>"
      ]
     },
     "metadata": {
      "needs_background": "light"
     },
     "output_type": "display_data"
    }
   ],
   "source": [
    "dataset['total_ovinos'].hist()"
   ]
  },
  {
   "cell_type": "code",
   "execution_count": 8,
   "id": "4df65634",
   "metadata": {},
   "outputs": [
    {
     "data": {
      "text/plain": [
       "<AxesSubplot:xlabel='total_ovinos'>"
      ]
     },
     "execution_count": 8,
     "metadata": {},
     "output_type": "execute_result"
    },
    {
     "data": {
      "image/png": "[encoded data removed]",
      "text/plain": [
       "<Figure size 432x288 with 1 Axes>"
      ]
     },
     "metadata": {
      "needs_background": "light"
     },
     "output_type": "display_data"
    }
   ],
   "source": [
    "sns.boxplot(x=dataset['total_ovinos'])"
   ]
  },
  {
   "cell_type": "code",
   "execution_count": 9,
   "id": "725e5dcb",
   "metadata": {},
   "outputs": [
    {
     "data": {
      "text/plain": [
       "<AxesSubplot:>"
      ]
     },
     "execution_count": 9,
     "metadata": {},
     "output_type": "execute_result"
    },
    {
     "data": {
      "image/png": "[encoded data removed]",
      "text/plain": [
       "<Figure size 432x288 with 1 Axes>"
      ]
     },
     "metadata": {
      "needs_background": "light"
     },
     "output_type": "display_data"
    }
   ],
   "source": [
    "dataset['cant_lluvia'].hist()"
   ]
  },
  {
   "cell_type": "code",
   "execution_count": 10,
   "id": "aae6a6dd",
   "metadata": {},
   "outputs": [
    {
     "data": {
      "text/plain": [
       "<AxesSubplot:xlabel='cant_lluvia'>"
      ]
     },
     "execution_count": 10,
     "metadata": {},
     "output_type": "execute_result"
    },
    {
     "data": {
      "image/png": "[encoded data removed]",
      "text/plain": [
       "<Figure size 432x288 with 1 Axes>"
      ]
     },
     "metadata": {
      "needs_background": "light"
     },
     "output_type": "display_data"
    }
   ],
   "source": [
    "sns.boxplot(x=dataset['cant_lluvia'])"
   ]
  },
  {
   "cell_type": "code",
   "execution_count": 11,
   "id": "968dc24e",
   "metadata": {},
   "outputs": [
    {
     "data": {
      "text/plain": [
       "<AxesSubplot:>"
      ]
     },
     "execution_count": 11,
     "metadata": {},
     "output_type": "execute_result"
    },
    {
     "data": {
      "image/png": "[encoded data removed]",
      "text/plain": [
       "<Figure size 432x288 with 1 Axes>"
      ]
     },
     "metadata": {
      "needs_background": "light"
     },
     "output_type": "display_data"
    }
   ],
   "source": [
    "dataset['hectareas'].hist()"
   ]
  },
  {
   "cell_type": "code",
   "execution_count": 12,
   "id": "8a3760a2",
   "metadata": {},
   "outputs": [
    {
     "data": {
      "text/plain": [
       "<AxesSubplot:xlabel='hectareas'>"
      ]
     },
     "execution_count": 12,
     "metadata": {},
     "output_type": "execute_result"
    },
    {
     "data": {
      "image/png": "[encoded data removed]",
      "text/plain": [
       "<Figure size 432x288 with 1 Axes>"
      ]
     },
     "metadata": {
      "needs_background": "light"
     },
     "output_type": "display_data"
    }
   ],
   "source": [
    "sns.boxplot(x=dataset['hectareas'])"
   ]
  },
  {
   "cell_type": "code",
   "execution_count": 13,
   "id": "8e544aaa",
   "metadata": {},
   "outputs": [
    {
     "data": {
      "text/plain": [
       "1041.16"
      ]
     },
     "execution_count": 13,
     "metadata": {},
     "output_type": "execute_result"
    }
   ],
   "source": [
    "dataset['cant_lluvia'].max()"
   ]
  },
  {
   "cell_type": "markdown",
   "id": "1e73ed89",
   "metadata": {
    "id": "1e73ed89"
   },
   "source": [
    "## Primera Predicción: Lana"
   ]
  },
  {
   "cell_type": "markdown",
   "id": "82f64df1",
   "metadata": {
    "id": "82f64df1"
   },
   "source": [
    "Variables independientes: \n",
    "- Cantidad total de lluvia acumulada de cada año (mm)\n",
    "- Cantidad total de ovinos de cada año (animales)\n",
    "\n",
    "Variables dependientes:\n",
    "- Kilos de lana producidos"
   ]
  },
  {
   "cell_type": "markdown",
   "id": "f16e3b1a",
   "metadata": {},
   "source": [
    "Primero, estandarizamos el dataset, luego sobre esos datos armamos el conjunto de entrenamiento y prueba para entrenar el modelo que nos servira para hacer las predicciones."
   ]
  },
  {
   "cell_type": "code",
   "execution_count": 14,
   "id": "160d8e71",
   "metadata": {
    "executionInfo": {
     "elapsed": 312,
     "status": "ok",
     "timestamp": 1664387830579,
     "user": {
      "displayName": "Lucila Allende",
      "userId": "00372317538275967677"
     },
     "user_tz": 180
    },
    "id": "160d8e71"
   },
   "outputs": [],
   "source": [
    "num_attrs = [\"cant_lluvia\", \"total_ovinos\", \"hectareas\"]\n",
    "pipeline = ColumnTransformer([(\"numeric\", StandardScaler(), num_attrs)])\n",
    "X_primera_prediccion = pipeline.fit_transform(dataset)\n",
    "\n",
    "standard_scaler = StandardScaler()\n",
    "l_values = dataset[['kilos_lana']]\n",
    "scaled_values = standard_scaler.fit(l_values)\n",
    "y_primera_prediccion = standard_scaler.transform(l_values)"
   ]
  },
  {
   "cell_type": "code",
   "execution_count": 15,
   "id": "cd9228d7",
   "metadata": {},
   "outputs": [],
   "source": [
    "X_train_1, X_test_1, y_train_1, y_test_1 = train_test_split(\n",
    "                                                X_primera_prediccion, \n",
    "                                                y_primera_prediccion, \n",
    "                                                test_size=0.20,\n",
    "                                                random_state=0)"
   ]
  },
  {
   "cell_type": "code",
   "execution_count": 16,
   "id": "aa54c830",
   "metadata": {
    "executionInfo": {
     "elapsed": 292,
     "status": "ok",
     "timestamp": 1664387837529,
     "user": {
      "displayName": "Lucila Allende",
      "userId": "00372317538275967677"
     },
     "user_tz": 180
    },
    "id": "aa54c830"
   },
   "outputs": [],
   "source": [
    "lr_multiple_1 = linear_model.LinearRegression()"
   ]
  },
  {
   "cell_type": "code",
   "execution_count": 17,
   "id": "3d8a9a0b",
   "metadata": {
    "colab": {
     "base_uri": "https://localhost:8080/"
    },
    "executionInfo": {
     "elapsed": 7,
     "status": "ok",
     "timestamp": 1664387839044,
     "user": {
      "displayName": "Lucila Allende",
      "userId": "00372317538275967677"
     },
     "user_tz": 180
    },
    "id": "3d8a9a0b",
    "outputId": "dd45eff3-6abf-4b7e-9e39-f0f81e6f2c53"
   },
   "outputs": [
    {
     "data": {
      "text/html": [
       "<style>#sk-container-id-1 {color: black;background-color: white;}#sk-container-id-1 pre{padding: 0;}#sk-container-id-1 div.sk-toggleable {background-color: white;}#sk-container-id-1 label.sk-toggleable__label {cursor: pointer;display: block;width: 100%;margin-bottom: 0;padding: 0.3em;box-sizing: border-box;text-align: center;}#sk-container-id-1 label.sk-toggleable__label-arrow:before {content: \"▸\";float: left;margin-right: 0.25em;color: #696969;}#sk-container-id-1 label.sk-toggleable__label-arrow:hover:before {color: black;}#sk-container-id-1 div.sk-estimator:hover label.sk-toggleable__label-arrow:before {color: black;}#sk-container-id-1 div.sk-toggleable__content {max-height: 0;max-width: 0;overflow: hidden;text-align: left;background-color: #f0f8ff;}#sk-container-id-1 div.sk-toggleable__content pre {margin: 0.2em;color: black;border-radius: 0.25em;background-color: #f0f8ff;}#sk-container-id-1 input.sk-toggleable__control:checked~div.sk-toggleable__content {max-height: 200px;max-width: 100%;overflow: auto;}#sk-container-id-1 input.sk-toggleable__control:checked~label.sk-toggleable__label-arrow:before {content: \"▾\";}#sk-container-id-1 div.sk-estimator input.sk-toggleable__control:checked~label.sk-toggleable__label {background-color: #d4ebff;}#sk-container-id-1 div.sk-label input.sk-toggleable__control:checked~label.sk-toggleable__label {background-color: #d4ebff;}#sk-container-id-1 input.sk-hidden--visually {border: 0;clip: rect(1px 1px 1px 1px);clip: rect(1px, 1px, 1px, 1px);height: 1px;margin: -1px;overflow: hidden;padding: 0;position: absolute;width: 1px;}#sk-container-id-1 div.sk-estimator {font-family: monospace;background-color: #f0f8ff;border: 1px dotted black;border-radius: 0.25em;box-sizing: border-box;margin-bottom: 0.5em;}#sk-container-id-1 div.sk-estimator:hover {background-color: #d4ebff;}#sk-container-id-1 div.sk-parallel-item::after {content: \"\";width: 100%;border-bottom: 1px solid gray;flex-grow: 1;}#sk-container-id-1 div.sk-label:hover label.sk-toggleable__label {background-color: #d4ebff;}#sk-container-id-1 div.sk-serial::before {content: \"\";position: absolute;border-left: 1px solid gray;box-sizing: border-box;top: 0;bottom: 0;left: 50%;z-index: 0;}#sk-container-id-1 div.sk-serial {display: flex;flex-direction: column;align-items: center;background-color: white;padding-right: 0.2em;padding-left: 0.2em;position: relative;}#sk-container-id-1 div.sk-item {position: relative;z-index: 1;}#sk-container-id-1 div.sk-parallel {display: flex;align-items: stretch;justify-content: center;background-color: white;position: relative;}#sk-container-id-1 div.sk-item::before, #sk-container-id-1 div.sk-parallel-item::before {content: \"\";position: absolute;border-left: 1px solid gray;box-sizing: border-box;top: 0;bottom: 0;left: 50%;z-index: -1;}#sk-container-id-1 div.sk-parallel-item {display: flex;flex-direction: column;z-index: 1;position: relative;background-color: white;}#sk-container-id-1 div.sk-parallel-item:first-child::after {align-self: flex-end;width: 50%;}#sk-container-id-1 div.sk-parallel-item:last-child::after {align-self: flex-start;width: 50%;}#sk-container-id-1 div.sk-parallel-item:only-child::after {width: 0;}#sk-container-id-1 div.sk-dashed-wrapped {border: 1px dashed gray;margin: 0 0.4em 0.5em 0.4em;box-sizing: border-box;padding-bottom: 0.4em;background-color: white;}#sk-container-id-1 div.sk-label label {font-family: monospace;font-weight: bold;display: inline-block;line-height: 1.2em;}#sk-container-id-1 div.sk-label-container {text-align: center;}#sk-container-id-1 div.sk-container {/* jupyter's `normalize.less` sets `[hidden] { display: none; }` but bootstrap.min.css set `[hidden] { display: none !important; }` so we also need the `!important` here to be able to override the default hidden behavior on the sphinx rendered scikit-learn.org. See: https://github.com/scikit-learn/scikit-learn/issues/21755 */display: inline-block !important;position: relative;}#sk-container-id-1 div.sk-text-repr-fallback {display: none;}</style><div id=\"sk-container-id-1\" class=\"sk-top-container\"><div class=\"sk-text-repr-fallback\"><pre>LinearRegression()</pre><b>In a Jupyter environment, please rerun this cell to show the HTML representation or trust the notebook. <br />On GitHub, the HTML representation is unable to render, please try loading this page with nbviewer.org.</b></div><div class=\"sk-container\" hidden><div class=\"sk-item\"><div class=\"sk-estimator sk-toggleable\"><input class=\"sk-toggleable__control sk-hidden--visually\" id=\"sk-estimator-id-1\" type=\"checkbox\" checked><label for=\"sk-estimator-id-1\" class=\"sk-toggleable__label sk-toggleable__label-arrow\">LinearRegression</label><div class=\"sk-toggleable__content\"><pre>LinearRegression()</pre></div></div></div></div></div>"
      ],
      "text/plain": [
       "LinearRegression()"
      ]
     },
     "execution_count": 17,
     "metadata": {},
     "output_type": "execute_result"
    }
   ],
   "source": [
    "lr_multiple_1.fit(X_train_1, y_train_1)"
   ]
  },
  {
   "cell_type": "code",
   "execution_count": 18,
   "id": "34ed815d",
   "metadata": {
    "executionInfo": {
     "elapsed": 335,
     "status": "ok",
     "timestamp": 1664387842215,
     "user": {
      "displayName": "Lucila Allende",
      "userId": "00372317538275967677"
     },
     "user_tz": 180
    },
    "id": "34ed815d"
   },
   "outputs": [],
   "source": [
    "Y_pred_multiple_1 = lr_multiple_1.predict(X_test_1)"
   ]
  },
  {
   "cell_type": "markdown",
   "id": "3xdT0mMQSIwl",
   "metadata": {
    "id": "3xdT0mMQSIwl"
   },
   "source": [
    "Chequeamos de manera manual las primeras cinco predicciones contra los primeros cinco datos reales."
   ]
  },
  {
   "cell_type": "code",
   "execution_count": 19,
   "id": "494cb42d",
   "metadata": {
    "colab": {
     "base_uri": "https://localhost:8080/"
    },
    "executionInfo": {
     "elapsed": 8,
     "status": "ok",
     "timestamp": 1664367112622,
     "user": {
      "displayName": "Lucila Allende",
      "userId": "00372317538275967677"
     },
     "user_tz": 180
    },
    "id": "494cb42d",
    "outputId": "9d502e36-f199-4ae5-89c0-11d2d87b645d"
   },
   "outputs": [
    {
     "data": {
      "text/plain": [
       "array([[-0.17858153],\n",
       "       [-0.08666341],\n",
       "       [-1.09577561],\n",
       "       [-1.11224817],\n",
       "       [ 1.51255195]])"
      ]
     },
     "execution_count": 19,
     "metadata": {},
     "output_type": "execute_result"
    }
   ],
   "source": [
    "Y_pred_multiple_1[:5]"
   ]
  },
  {
   "cell_type": "code",
   "execution_count": 20,
   "id": "fdabea1f",
   "metadata": {
    "colab": {
     "base_uri": "https://localhost:8080/"
    },
    "executionInfo": {
     "elapsed": 295,
     "status": "ok",
     "timestamp": 1664367115068,
     "user": {
      "displayName": "Lucila Allende",
      "userId": "00372317538275967677"
     },
     "user_tz": 180
    },
    "id": "fdabea1f",
    "outputId": "8f0daeac-dbc3-4070-8a48-86f0ecdd550c"
   },
   "outputs": [
    {
     "data": {
      "text/plain": [
       "array([[-0.16988088],\n",
       "       [ 0.01761261],\n",
       "       [-1.0872122 ],\n",
       "       [-1.08776986],\n",
       "       [ 1.86660504]])"
      ]
     },
     "execution_count": 20,
     "metadata": {},
     "output_type": "execute_result"
    }
   ],
   "source": [
    "y_test_1[:5]"
   ]
  },
  {
   "cell_type": "markdown",
   "id": "bdea2654",
   "metadata": {},
   "source": [
    "Guardamos el modelo para utilizarlo en la aplicación"
   ]
  },
  {
   "cell_type": "code",
   "execution_count": 21,
   "id": "e06a043e",
   "metadata": {},
   "outputs": [],
   "source": [
    "save_pickle(lr_multiple_1,'modelo_prediccion_lana_3')"
   ]
  },
  {
   "cell_type": "markdown",
   "id": "d6c213de",
   "metadata": {
    "id": "d6c213de"
   },
   "source": [
    "### Métricas"
   ]
  },
  {
   "cell_type": "markdown",
   "id": "5e199050",
   "metadata": {
    "id": "5e199050"
   },
   "source": [
    "#### Score"
   ]
  },
  {
   "cell_type": "markdown",
   "id": "7b3d1461",
   "metadata": {
    "id": "7b3d1461"
   },
   "source": [
    "*Score*: Todos los algoritmos incluyen un método \"score\" que provee el resultado de un criterio de evaluación por defecto para aquel problema al que están orientados. De esta manera, el método score de un modelo de clasificación basado en árbol de decisión, devuelve la precisión del modelo, entendida como el porcentaje de valores clasificados correctamente con respecto al total de elementos. O una regresión lineal devuelve el coeficiente de determinación, o R2, entendida como el porcentaje de la variancia de la variable dependiente que es predecible a partir de la variable independiente."
   ]
  },
  {
   "cell_type": "code",
   "execution_count": 22,
   "id": "773f9f35",
   "metadata": {
    "colab": {
     "base_uri": "https://localhost:8080/"
    },
    "executionInfo": {
     "elapsed": 398,
     "status": "ok",
     "timestamp": 1664367122879,
     "user": {
      "displayName": "Lucila Allende",
      "userId": "00372317538275967677"
     },
     "user_tz": 180
    },
    "id": "773f9f35",
    "outputId": "941d1994-3578-4eb5-a238-e3b0c096d16a"
   },
   "outputs": [
    {
     "name": "stdout",
     "output_type": "stream",
     "text": [
      "Exactitud del modelo en entrenamiento:\n",
      "0.897%\n"
     ]
    }
   ],
   "source": [
    "print('Exactitud del modelo en entrenamiento:')\n",
    "print(str(round(lr_multiple_1.score(X_train_1, y_train_1),4))+'%')"
   ]
  },
  {
   "cell_type": "markdown",
   "id": "58908b72",
   "metadata": {
    "id": "58908b72"
   },
   "source": [
    "Interpretación: En este caso estamos usando los valores de entrenamiento, y el modelo predice con un 90% de exactitud.  "
   ]
  },
  {
   "cell_type": "code",
   "execution_count": 23,
   "id": "fb51f297",
   "metadata": {
    "colab": {
     "base_uri": "https://localhost:8080/"
    },
    "executionInfo": {
     "elapsed": 440,
     "status": "ok",
     "timestamp": 1664367126087,
     "user": {
      "displayName": "Lucila Allende",
      "userId": "00372317538275967677"
     },
     "user_tz": 180
    },
    "id": "fb51f297",
    "outputId": "632bd6c2-bbd6-4cd2-84c7-7ec463e476e1"
   },
   "outputs": [
    {
     "name": "stdout",
     "output_type": "stream",
     "text": [
      "Exactitud del modelo en test:\n",
      "0.921%\n"
     ]
    }
   ],
   "source": [
    "print('Exactitud del modelo en test:')\n",
    "print(str(round(lr_multiple_1.score(X_test_1, y_test_1),4))+'%')"
   ]
  },
  {
   "cell_type": "markdown",
   "id": "b5541e15",
   "metadata": {
    "id": "b5541e15"
   },
   "source": [
    "Interpretación: En este caso estamos usando los valores de prueba, y el modelo predice con un 92% de exactitud. "
   ]
  },
  {
   "cell_type": "markdown",
   "id": "e7cca92f",
   "metadata": {
    "id": "e7cca92f"
   },
   "source": [
    "#### Varianza explicada"
   ]
  },
  {
   "cell_type": "markdown",
   "id": "e0d5d7cd",
   "metadata": {
    "id": "e0d5d7cd"
   },
   "source": [
    "*Varianza explicada*: Representa el porcentaje de la varianza de la variable de salida que es explicado por el modelo. O sea esta métrica evalúa la variación o dispersión de los puntos de datos. La mejor puntuación posible es 1.0, los valores más bajos son peores. Dentro de sklearn el método es **explained_variance_score**. "
   ]
  },
  {
   "cell_type": "code",
   "execution_count": 24,
   "id": "03b98495",
   "metadata": {
    "colab": {
     "base_uri": "https://localhost:8080/"
    },
    "executionInfo": {
     "elapsed": 381,
     "status": "ok",
     "timestamp": 1664367133084,
     "user": {
      "displayName": "Lucila Allende",
      "userId": "00372317538275967677"
     },
     "user_tz": 180
    },
    "id": "03b98495",
    "outputId": "79a8e017-061b-43bb-96fd-d00559afc317"
   },
   "outputs": [
    {
     "name": "stdout",
     "output_type": "stream",
     "text": [
      "Varianza Explicada:\n",
      "0.921\n"
     ]
    }
   ],
   "source": [
    "print('Varianza Explicada:')\n",
    "print(str(round(explained_variance_score(y_test_1, Y_pred_multiple_1),4)))"
   ]
  },
  {
   "cell_type": "markdown",
   "id": "0ad38976",
   "metadata": {
    "id": "0ad38976"
   },
   "source": [
    "Interpretación: El modelo explica la variable de salida (lana) en un 92%."
   ]
  },
  {
   "cell_type": "markdown",
   "id": "882bd947",
   "metadata": {
    "id": "882bd947"
   },
   "source": [
    "#### Error medio absoluto"
   ]
  },
  {
   "cell_type": "markdown",
   "id": "a892d9a6",
   "metadata": {
    "id": "a892d9a6"
   },
   "source": [
    "*Error medio absoluto* (**MAE**): Es la media de las diferencias absolutas entre el valor objetivo y el predicho. Al no elevar al cuadrado, no penaliza los errores grandes, lo que la hace no muy sensible a valores anómalos, por lo que no es una métrica recomendable en modelos en los que se deba prestar atención a éstos. Mientras mas cercano a cero mejor. Dentro de sklearn el método es **mean_absolute_error**."
   ]
  },
  {
   "cell_type": "code",
   "execution_count": 25,
   "id": "7da2d29f",
   "metadata": {
    "colab": {
     "base_uri": "https://localhost:8080/"
    },
    "executionInfo": {
     "elapsed": 294,
     "status": "ok",
     "timestamp": 1664367136514,
     "user": {
      "displayName": "Lucila Allende",
      "userId": "00372317538275967677"
     },
     "user_tz": 180
    },
    "id": "7da2d29f",
    "outputId": "371d2f0b-ea27-4b65-b0f6-33c075088319"
   },
   "outputs": [
    {
     "name": "stdout",
     "output_type": "stream",
     "text": [
      "MAE:\n",
      "0.2476\n"
     ]
    }
   ],
   "source": [
    "print('MAE:')\n",
    "print(str(round(mean_absolute_error(y_test_1, Y_pred_multiple_1),4)))"
   ]
  },
  {
   "cell_type": "markdown",
   "id": "b722abdb",
   "metadata": {
    "id": "b722abdb"
   },
   "source": [
    "Interpretación: Nos dice que el modelo se equivoca en promedio en un 24% (154350kg aprox), cada vez que predice un valor de lana. "
   ]
  },
  {
   "cell_type": "markdown",
   "id": "655af706",
   "metadata": {
    "id": "655af706"
   },
   "source": [
    "#### Error cuadrático medio"
   ]
  },
  {
   "cell_type": "markdown",
   "id": "048db3e5",
   "metadata": {
    "id": "048db3e5"
   },
   "source": [
    "*Error cuadrático medio* (**MSE**): Es simplemente la media de las diferencias entre el valor objetivo y el predicho al cuadrado. Al elevar al cuadrado los errores, magnifica los errores grandes, por lo que hay que utilizarla con cuidado cuando tenemos valores anómalos en nuestro conjunto de datos. Mientras mas cercano a cero mejor. Dentro de sklearn el método es **mean_squared_error**."
   ]
  },
  {
   "cell_type": "code",
   "execution_count": 26,
   "id": "9a0b0f5d",
   "metadata": {
    "colab": {
     "base_uri": "https://localhost:8080/"
    },
    "executionInfo": {
     "elapsed": 284,
     "status": "ok",
     "timestamp": 1664367139366,
     "user": {
      "displayName": "Lucila Allende",
      "userId": "00372317538275967677"
     },
     "user_tz": 180
    },
    "id": "9a0b0f5d",
    "outputId": "5ab591d9-2156-4f6e-94b1-39c05e8a5836"
   },
   "outputs": [
    {
     "name": "stdout",
     "output_type": "stream",
     "text": [
      "MSE:\n",
      "0.1222\n"
     ]
    }
   ],
   "source": [
    "print('MSE:')\n",
    "print(str(round(mean_squared_error(y_test_1, Y_pred_multiple_1),4)))"
   ]
  },
  {
   "cell_type": "markdown",
   "id": "c3e9a681",
   "metadata": {
    "id": "c3e9a681"
   },
   "source": [
    "Interpretación: Nos dice que el modelo se equivoca en promedio en un 1.22%, cada vez que predice un valor de lana, en este caso penalizando los errores grandes. "
   ]
  },
  {
   "cell_type": "markdown",
   "id": "aad402e7",
   "metadata": {
    "id": "aad402e7"
   },
   "source": [
    "#### Raíz cuadrada del MSE"
   ]
  },
  {
   "cell_type": "markdown",
   "id": "26935214",
   "metadata": {
    "id": "26935214"
   },
   "source": [
    "*Raíz cuadrada de la media del error al cuadrado* (**RMSE**): Es igual a la raíz cuadrada de la métrica anterior. La ventaja de esta métrica es que presenta el error en las mismas unidades que la variable objetivo, lo que la hace más fácil de entender. Mientras mas cercano a cero mejor. Dentro de sklearn el método es **mean_squared_error** y a este se le saca la raíz cuadrada. "
   ]
  },
  {
   "cell_type": "code",
   "execution_count": 27,
   "id": "3af44485",
   "metadata": {
    "colab": {
     "base_uri": "https://localhost:8080/"
    },
    "executionInfo": {
     "elapsed": 266,
     "status": "ok",
     "timestamp": 1664367141770,
     "user": {
      "displayName": "Lucila Allende",
      "userId": "00372317538275967677"
     },
     "user_tz": 180
    },
    "id": "3af44485",
    "outputId": "6893c73d-36dd-4953-dadc-0694d08598e2"
   },
   "outputs": [
    {
     "name": "stdout",
     "output_type": "stream",
     "text": [
      "RMSE:\n",
      "0.3496\n"
     ]
    }
   ],
   "source": [
    "print('RMSE:')\n",
    "print(str(round(np.sqrt(round(mean_squared_error(y_test_1, Y_pred_multiple_1),4)),4)))"
   ]
  },
  {
   "cell_type": "markdown",
   "id": "e21bb39b",
   "metadata": {
    "id": "e21bb39b"
   },
   "source": [
    "Interpretación: Nos dice que el modelo se equivoca en promedio un 34%(225488kg aprox), cada vez que predice un valor de lana."
   ]
  },
  {
   "cell_type": "markdown",
   "id": "0e9f212f",
   "metadata": {
    "id": "0e9f212f"
   },
   "source": [
    "#### R cuadrado"
   ]
  },
  {
   "cell_type": "markdown",
   "id": "c8953d4c",
   "metadata": {
    "id": "c8953d4c"
   },
   "source": [
    "*R cuadrado* (**R2**): Esta métrica difiere de las anteriores, ya que compara nuestro modelo con un modelo básico que siempre devuelve como predicción la media de los valores objetivo de entrenamiento. La comparación entre estos dos modelos se realiza en base a la media de los errores al cuadrado de cada modelo. Los valores que puede tomar esta métrica van desde menos infinito a 1. Cuanto más cercano a 1 sea el valor de esta métrica, mejor será nuestro modelo. El R cuadrado, también llamado coeficiente de determinación, refleja la bondad del ajuste de un modelo a la variable que pretender explicar. Es importante saber que el resultado del coeficiente de determinación oscila entre 0 y 1. Cuanto más cerca de 1 se sitúe su valor, mayor será el ajuste del modelo a la variable que estamos intentando explicar. De forma inversa, cuanto más cerca de cero, menos ajustado estará el modelo y, por tanto, menos fiable será. Dentro de sklearn el método es **r2_score**."
   ]
  },
  {
   "cell_type": "code",
   "execution_count": 28,
   "id": "000a30bd",
   "metadata": {
    "colab": {
     "base_uri": "https://localhost:8080/"
    },
    "executionInfo": {
     "elapsed": 305,
     "status": "ok",
     "timestamp": 1664367145472,
     "user": {
      "displayName": "Lucila Allende",
      "userId": "00372317538275967677"
     },
     "user_tz": 180
    },
    "id": "000a30bd",
    "outputId": "9910e1bc-b85c-44b3-add0-f7f2ae114869"
   },
   "outputs": [
    {
     "name": "stdout",
     "output_type": "stream",
     "text": [
      "R2:\n",
      "0.921\n"
     ]
    }
   ],
   "source": [
    "print('R2:')\n",
    "print(str(round(r2_score(y_test_1, Y_pred_multiple_1),4)))"
   ]
  },
  {
   "cell_type": "markdown",
   "id": "cdc74660",
   "metadata": {
    "id": "cdc74660"
   },
   "source": [
    "Interpretación: El modelo explica en un 92% la variable de salida, en este caso los kilos de lana."
   ]
  },
  {
   "cell_type": "markdown",
   "id": "f46b6f01",
   "metadata": {
    "id": "f46b6f01"
   },
   "source": [
    "El problema del coeficiente de determinación, y razón por el cual surge el coeficiente de determinación ajustado, radica en que no penaliza la inclusión de variables explicativas no significativas. Es decir, si al modelo se añaden cinco variables explicativas que guardan poca relación con lo que se intenta predecir, el R cuadrado aumentará. Es por ello que muchos expertos económetras, estadísticos y matemáticos se oponen al uso del R cuadrado como medida representativa de la bondad del ajuste real."
   ]
  },
  {
   "cell_type": "markdown",
   "id": "b74a2648",
   "metadata": {},
   "source": [
    "#### R cuadrado ajustado"
   ]
  },
  {
   "attachments": {
    "image.png": {
     "image/png": "[encoded data removed]"
    }
   },
   "cell_type": "markdown",
   "id": "6635405f",
   "metadata": {},
   "source": [
    "![image.png](attachment:image.png)\n",
    "https://economipedia.com/definiciones/r-cuadrado-ajustado-coeficiente-de-determinacion-ajustado.html"
   ]
  },
  {
   "cell_type": "code",
   "execution_count": 29,
   "id": "a135b5d5",
   "metadata": {},
   "outputs": [
    {
     "name": "stdout",
     "output_type": "stream",
     "text": [
      "R2 ajustado:\n",
      "0.9146\n"
     ]
    }
   ],
   "source": [
    "def r2_ajustado(n,k,r2):\n",
    "    return round(1-((n-1)/(n-k-1))*(1-r2),4)\n",
    "\n",
    "r2 = r2_score(y_test_1, Y_pred_multiple_1)\n",
    "k = 3\n",
    "n = len(y_test_1)\n",
    "resultado = r2_ajustado(n,k,r2)\n",
    "print('R2 ajustado:')\n",
    "print(resultado)"
   ]
  },
  {
   "cell_type": "markdown",
   "id": "30cc7435",
   "metadata": {},
   "source": [
    "Interpretación: El modelo explica en un 91% la variable de salida, en este caso los kilos de lana. Es decir la bondad de ajuste es del 91%."
   ]
  },
  {
   "cell_type": "markdown",
   "id": "b7e434aa",
   "metadata": {
    "id": "b7e434aa"
   },
   "source": [
    "### Gráficos predición de lana"
   ]
  },
  {
   "cell_type": "markdown",
   "id": "c77facc3",
   "metadata": {},
   "source": [
    "#### Gráfico predicción vs real"
   ]
  },
  {
   "cell_type": "code",
   "execution_count": 31,
   "id": "23c52a15",
   "metadata": {},
   "outputs": [
    {
     "data": {
      "image/png": "[encoded data removed]",
      "text/plain": [
       "<Figure size 1152x648 with 1 Axes>"
      ]
     },
     "metadata": {},
     "output_type": "display_data"
    }
   ],
   "source": [
    "plt.plot(range(len(y_test_1)),y_test_1,label=\"Real\")\n",
    "plt.plot(range(len(Y_pred_multiple_1)),Y_pred_multiple_1,label=\"Prediccion\")\n",
    "plt.rcParams['figure.figsize'] = (16, 9)\n",
    "plt.style.use('ggplot')\n",
    "plt.xlabel('muestras')\n",
    "plt.ylabel('kilos lana')\n",
    "plt.legend()\n",
    "plt.show()"
   ]
  }
 ],
 "metadata": {
  "colab": {
   "provenance": []
  },
  "kernelspec": {
   "display_name": "Python 3 (ipykernel)",
   "language": "python",
   "name": "python3"
  },
  "language_info": {
   "codemirror_mode": {
    "name": "ipython",
    "version": 3
   },
   "file_extension": ".py",
   "mimetype": "text/x-python",
   "name": "python",
   "nbconvert_exporter": "python",
   "pygments_lexer": "ipython3",
   "version": "3.9.7"
  },
  "toc": {
   "base_numbering": 1,
   "nav_menu": {},
   "number_sections": true,
   "sideBar": true,
   "skip_h1_title": false,
   "title_cell": "Table of Contents",
   "title_sidebar": "Contents",
   "toc_cell": false,
   "toc_position": {},
   "toc_section_display": true,
   "toc_window_display": false
  }
 },
 "nbformat": 4,
 "nbformat_minor": 5
}
