{
 "cells": [
  {
   "cell_type": "markdown",
   "id": "4ac59da2",
   "metadata": {},
   "source": [
    "# Mostrar a Leo"
   ]
  },
  {
   "cell_type": "code",
   "execution_count": 1,
   "id": "86f384d0",
   "metadata": {},
   "outputs": [],
   "source": [
    "import numpy as np\n",
    "import pandas as pd\n",
    "\n",
    "from sklearn.metrics import mean_squared_error, r2_score, explained_variance_score, mean_absolute_error\n",
    "from sklearn.model_selection import train_test_split\n",
    "from sklearn import linear_model"
   ]
  },
  {
   "cell_type": "code",
   "execution_count": 2,
   "id": "c528a622",
   "metadata": {},
   "outputs": [
    {
     "data": {
      "text/html": [
       "<div>\n",
       "<style scoped>\n",
       "    .dataframe tbody tr th:only-of-type {\n",
       "        vertical-align: middle;\n",
       "    }\n",
       "\n",
       "    .dataframe tbody tr th {\n",
       "        vertical-align: top;\n",
       "    }\n",
       "\n",
       "    .dataframe thead th {\n",
       "        text-align: right;\n",
       "    }\n",
       "</style>\n",
       "<table border=\"1\" class=\"dataframe\">\n",
       "  <thead>\n",
       "    <tr style=\"text-align: right;\">\n",
       "      <th></th>\n",
       "      <th>fecha</th>\n",
       "      <th>provincia</th>\n",
       "      <th>departamento</th>\n",
       "      <th>carneros</th>\n",
       "      <th>ovejas</th>\n",
       "      <th>borregos</th>\n",
       "      <th>capones</th>\n",
       "      <th>cordero/as</th>\n",
       "      <th>total_ovinos</th>\n",
       "      <th>kilos_lana</th>\n",
       "      <th>finura</th>\n",
       "      <th>rinde</th>\n",
       "      <th>humedad</th>\n",
       "      <th>cant_lluvia</th>\n",
       "      <th>tem_max</th>\n",
       "      <th>temp_media</th>\n",
       "      <th>temp_min</th>\n",
       "    </tr>\n",
       "  </thead>\n",
       "  <tbody>\n",
       "    <tr>\n",
       "      <th>0</th>\n",
       "      <td>2012-12-31</td>\n",
       "      <td>CHUBUT</td>\n",
       "      <td>BIEDMA</td>\n",
       "      <td>5785</td>\n",
       "      <td>93378</td>\n",
       "      <td>30168</td>\n",
       "      <td>48447</td>\n",
       "      <td>16071</td>\n",
       "      <td>193849</td>\n",
       "      <td>649130.0</td>\n",
       "      <td>19.80</td>\n",
       "      <td>58.06</td>\n",
       "      <td>58.40</td>\n",
       "      <td>46.4</td>\n",
       "      <td>18.10</td>\n",
       "      <td>12.40</td>\n",
       "      <td>6.70</td>\n",
       "    </tr>\n",
       "    <tr>\n",
       "      <th>1</th>\n",
       "      <td>2013-12-31</td>\n",
       "      <td>CHUBUT</td>\n",
       "      <td>BIEDMA</td>\n",
       "      <td>5376</td>\n",
       "      <td>82998</td>\n",
       "      <td>25341</td>\n",
       "      <td>47350</td>\n",
       "      <td>26832</td>\n",
       "      <td>187897</td>\n",
       "      <td>620176.0</td>\n",
       "      <td>19.60</td>\n",
       "      <td>56.68</td>\n",
       "      <td>64.70</td>\n",
       "      <td>226.5</td>\n",
       "      <td>19.90</td>\n",
       "      <td>14.20</td>\n",
       "      <td>8.80</td>\n",
       "    </tr>\n",
       "    <tr>\n",
       "      <th>2</th>\n",
       "      <td>2014-12-31</td>\n",
       "      <td>CHUBUT</td>\n",
       "      <td>BIEDMA</td>\n",
       "      <td>4785</td>\n",
       "      <td>82706</td>\n",
       "      <td>29379</td>\n",
       "      <td>35155</td>\n",
       "      <td>29900</td>\n",
       "      <td>181925</td>\n",
       "      <td>649130.0</td>\n",
       "      <td>20.10</td>\n",
       "      <td>61.19</td>\n",
       "      <td>60.50</td>\n",
       "      <td>331.3</td>\n",
       "      <td>20.60</td>\n",
       "      <td>14.70</td>\n",
       "      <td>9.20</td>\n",
       "    </tr>\n",
       "    <tr>\n",
       "      <th>3</th>\n",
       "      <td>2015-12-31</td>\n",
       "      <td>CHUBUT</td>\n",
       "      <td>BIEDMA</td>\n",
       "      <td>4440</td>\n",
       "      <td>89262</td>\n",
       "      <td>29663</td>\n",
       "      <td>35437</td>\n",
       "      <td>32343</td>\n",
       "      <td>191145</td>\n",
       "      <td>672480.0</td>\n",
       "      <td>18.58</td>\n",
       "      <td>58.18</td>\n",
       "      <td>58.70</td>\n",
       "      <td>114.2</td>\n",
       "      <td>22.20</td>\n",
       "      <td>15.80</td>\n",
       "      <td>10.20</td>\n",
       "    </tr>\n",
       "    <tr>\n",
       "      <th>4</th>\n",
       "      <td>2016-12-31</td>\n",
       "      <td>CHUBUT</td>\n",
       "      <td>BIEDMA</td>\n",
       "      <td>4452</td>\n",
       "      <td>82295</td>\n",
       "      <td>33662</td>\n",
       "      <td>33470</td>\n",
       "      <td>21326</td>\n",
       "      <td>175205</td>\n",
       "      <td>653800.0</td>\n",
       "      <td>17.99</td>\n",
       "      <td>59.93</td>\n",
       "      <td>57.50</td>\n",
       "      <td>88.9</td>\n",
       "      <td>25.20</td>\n",
       "      <td>18.60</td>\n",
       "      <td>12.90</td>\n",
       "    </tr>\n",
       "    <tr>\n",
       "      <th>...</th>\n",
       "      <td>...</td>\n",
       "      <td>...</td>\n",
       "      <td>...</td>\n",
       "      <td>...</td>\n",
       "      <td>...</td>\n",
       "      <td>...</td>\n",
       "      <td>...</td>\n",
       "      <td>...</td>\n",
       "      <td>...</td>\n",
       "      <td>...</td>\n",
       "      <td>...</td>\n",
       "      <td>...</td>\n",
       "      <td>...</td>\n",
       "      <td>...</td>\n",
       "      <td>...</td>\n",
       "      <td>...</td>\n",
       "      <td>...</td>\n",
       "    </tr>\n",
       "    <tr>\n",
       "      <th>196</th>\n",
       "      <td>2016-12-31</td>\n",
       "      <td>CHUBUT</td>\n",
       "      <td>TELSEN</td>\n",
       "      <td>4896</td>\n",
       "      <td>80262</td>\n",
       "      <td>26471</td>\n",
       "      <td>39243</td>\n",
       "      <td>20290</td>\n",
       "      <td>171162</td>\n",
       "      <td>637000.0</td>\n",
       "      <td>20.20</td>\n",
       "      <td>53.55</td>\n",
       "      <td>50.80</td>\n",
       "      <td>820.0</td>\n",
       "      <td>17.47</td>\n",
       "      <td>11.57</td>\n",
       "      <td>5.77</td>\n",
       "    </tr>\n",
       "    <tr>\n",
       "      <th>197</th>\n",
       "      <td>2017-12-31</td>\n",
       "      <td>CHUBUT</td>\n",
       "      <td>TELSEN</td>\n",
       "      <td>4640</td>\n",
       "      <td>77556</td>\n",
       "      <td>27296</td>\n",
       "      <td>36570</td>\n",
       "      <td>17750</td>\n",
       "      <td>163812</td>\n",
       "      <td>637000.0</td>\n",
       "      <td>19.11</td>\n",
       "      <td>56.01</td>\n",
       "      <td>47.17</td>\n",
       "      <td>660.1</td>\n",
       "      <td>16.60</td>\n",
       "      <td>10.93</td>\n",
       "      <td>5.03</td>\n",
       "    </tr>\n",
       "    <tr>\n",
       "      <th>198</th>\n",
       "      <td>2018-12-31</td>\n",
       "      <td>CHUBUT</td>\n",
       "      <td>TELSEN</td>\n",
       "      <td>4832</td>\n",
       "      <td>79117</td>\n",
       "      <td>28366</td>\n",
       "      <td>37558</td>\n",
       "      <td>21933</td>\n",
       "      <td>171806</td>\n",
       "      <td>637000.0</td>\n",
       "      <td>20.38</td>\n",
       "      <td>54.64</td>\n",
       "      <td>47.93</td>\n",
       "      <td>604.2</td>\n",
       "      <td>17.63</td>\n",
       "      <td>11.33</td>\n",
       "      <td>5.03</td>\n",
       "    </tr>\n",
       "    <tr>\n",
       "      <th>199</th>\n",
       "      <td>2019-12-31</td>\n",
       "      <td>CHUBUT</td>\n",
       "      <td>TELSEN</td>\n",
       "      <td>4781</td>\n",
       "      <td>80109</td>\n",
       "      <td>28428</td>\n",
       "      <td>38109</td>\n",
       "      <td>17731</td>\n",
       "      <td>169158</td>\n",
       "      <td>613021.5</td>\n",
       "      <td>16.88</td>\n",
       "      <td>53.83</td>\n",
       "      <td>47.57</td>\n",
       "      <td>358.4</td>\n",
       "      <td>17.53</td>\n",
       "      <td>11.17</td>\n",
       "      <td>4.83</td>\n",
       "    </tr>\n",
       "    <tr>\n",
       "      <th>200</th>\n",
       "      <td>2020-12-31</td>\n",
       "      <td>CHUBUT</td>\n",
       "      <td>TELSEN</td>\n",
       "      <td>2870</td>\n",
       "      <td>79157</td>\n",
       "      <td>25804</td>\n",
       "      <td>36901</td>\n",
       "      <td>18984</td>\n",
       "      <td>163716</td>\n",
       "      <td>614250.0</td>\n",
       "      <td>21.55</td>\n",
       "      <td>52.96</td>\n",
       "      <td>46.63</td>\n",
       "      <td>304.4</td>\n",
       "      <td>16.60</td>\n",
       "      <td>10.60</td>\n",
       "      <td>4.63</td>\n",
       "    </tr>\n",
       "  </tbody>\n",
       "</table>\n",
       "<p>201 rows × 17 columns</p>\n",
       "</div>"
      ],
      "text/plain": [
       "          fecha provincia departamento  carneros  ovejas  borregos  capones  \\\n",
       "0    2012-12-31    CHUBUT       BIEDMA      5785   93378     30168    48447   \n",
       "1    2013-12-31    CHUBUT       BIEDMA      5376   82998     25341    47350   \n",
       "2    2014-12-31    CHUBUT       BIEDMA      4785   82706     29379    35155   \n",
       "3    2015-12-31    CHUBUT       BIEDMA      4440   89262     29663    35437   \n",
       "4    2016-12-31    CHUBUT       BIEDMA      4452   82295     33662    33470   \n",
       "..          ...       ...          ...       ...     ...       ...      ...   \n",
       "196  2016-12-31    CHUBUT       TELSEN      4896   80262     26471    39243   \n",
       "197  2017-12-31    CHUBUT       TELSEN      4640   77556     27296    36570   \n",
       "198  2018-12-31    CHUBUT       TELSEN      4832   79117     28366    37558   \n",
       "199  2019-12-31    CHUBUT       TELSEN      4781   80109     28428    38109   \n",
       "200  2020-12-31    CHUBUT       TELSEN      2870   79157     25804    36901   \n",
       "\n",
       "     cordero/as  total_ovinos  kilos_lana  finura  rinde  humedad  \\\n",
       "0         16071        193849    649130.0   19.80  58.06    58.40   \n",
       "1         26832        187897    620176.0   19.60  56.68    64.70   \n",
       "2         29900        181925    649130.0   20.10  61.19    60.50   \n",
       "3         32343        191145    672480.0   18.58  58.18    58.70   \n",
       "4         21326        175205    653800.0   17.99  59.93    57.50   \n",
       "..          ...           ...         ...     ...    ...      ...   \n",
       "196       20290        171162    637000.0   20.20  53.55    50.80   \n",
       "197       17750        163812    637000.0   19.11  56.01    47.17   \n",
       "198       21933        171806    637000.0   20.38  54.64    47.93   \n",
       "199       17731        169158    613021.5   16.88  53.83    47.57   \n",
       "200       18984        163716    614250.0   21.55  52.96    46.63   \n",
       "\n",
       "     cant_lluvia  tem_max  temp_media  temp_min  \n",
       "0           46.4    18.10       12.40      6.70  \n",
       "1          226.5    19.90       14.20      8.80  \n",
       "2          331.3    20.60       14.70      9.20  \n",
       "3          114.2    22.20       15.80     10.20  \n",
       "4           88.9    25.20       18.60     12.90  \n",
       "..           ...      ...         ...       ...  \n",
       "196        820.0    17.47       11.57      5.77  \n",
       "197        660.1    16.60       10.93      5.03  \n",
       "198        604.2    17.63       11.33      5.03  \n",
       "199        358.4    17.53       11.17      4.83  \n",
       "200        304.4    16.60       10.60      4.63  \n",
       "\n",
       "[201 rows x 17 columns]"
      ]
     },
     "execution_count": 2,
     "metadata": {},
     "output_type": "execute_result"
    }
   ],
   "source": [
    "data = pd.read_csv(\"datos_producidos/datos_1.csv\")\n",
    "data"
   ]
  },
  {
   "cell_type": "markdown",
   "id": "1e73ed89",
   "metadata": {},
   "source": [
    "## Primera Predicción: Lana"
   ]
  },
  {
   "cell_type": "markdown",
   "id": "82f64df1",
   "metadata": {},
   "source": [
    "Variables independientes: \n",
    "- Cantidad total de lluvia acumulada de cada año (mm)\n",
    "- Cantidad de total de ovinos (animales)\n",
    "\n",
    "Variables dependientes:\n",
    "- Kilos de lana producidos"
   ]
  },
  {
   "cell_type": "code",
   "execution_count": 3,
   "id": "65694831",
   "metadata": {},
   "outputs": [],
   "source": [
    "X_primera_prediccion = data[['cant_lluvia','total_ovinos']]\n",
    "y_primera_prediccion = data[['kilos_lana']]"
   ]
  },
  {
   "cell_type": "code",
   "execution_count": 4,
   "id": "dfa8a5cc",
   "metadata": {},
   "outputs": [],
   "source": [
    "X_train_1, X_test_1, y_train_1, y_test_1 = train_test_split(\n",
    "                                                X_primera_prediccion, \n",
    "                                                y_primera_prediccion, \n",
    "                                                test_size=0.25\n",
    "                                            )"
   ]
  },
  {
   "cell_type": "code",
   "execution_count": 5,
   "id": "aa54c830",
   "metadata": {},
   "outputs": [],
   "source": [
    "lr_multiple_1 = linear_model.LinearRegression()"
   ]
  },
  {
   "cell_type": "code",
   "execution_count": 6,
   "id": "3d8a9a0b",
   "metadata": {},
   "outputs": [
    {
     "data": {
      "text/plain": [
       "LinearRegression()"
      ]
     },
     "execution_count": 6,
     "metadata": {},
     "output_type": "execute_result"
    }
   ],
   "source": [
    "lr_multiple_1.fit(X_train_1, y_train_1)"
   ]
  },
  {
   "cell_type": "code",
   "execution_count": 7,
   "id": "34ed815d",
   "metadata": {},
   "outputs": [],
   "source": [
    "Y_pred_multiple_1 = lr_multiple_1.predict(X_test_1)"
   ]
  },
  {
   "cell_type": "code",
   "execution_count": 9,
   "id": "494cb42d",
   "metadata": {},
   "outputs": [
    {
     "data": {
      "text/plain": [
       "array([[ 685626.02437911],\n",
       "       [ 555643.75474736],\n",
       "       [ 802937.61830592],\n",
       "       [1044953.8131949 ],\n",
       "       [3007152.62590503]])"
      ]
     },
     "execution_count": 9,
     "metadata": {},
     "output_type": "execute_result"
    }
   ],
   "source": [
    "Y_pred_multiple_1[:5]"
   ]
  },
  {
   "cell_type": "code",
   "execution_count": 10,
   "id": "fdabea1f",
   "metadata": {},
   "outputs": [
    {
     "data": {
      "text/html": [
       "<div>\n",
       "<style scoped>\n",
       "    .dataframe tbody tr th:only-of-type {\n",
       "        vertical-align: middle;\n",
       "    }\n",
       "\n",
       "    .dataframe tbody tr th {\n",
       "        vertical-align: top;\n",
       "    }\n",
       "\n",
       "    .dataframe thead th {\n",
       "        text-align: right;\n",
       "    }\n",
       "</style>\n",
       "<table border=\"1\" class=\"dataframe\">\n",
       "  <thead>\n",
       "    <tr style=\"text-align: right;\">\n",
       "      <th></th>\n",
       "      <th>kilos_lana</th>\n",
       "    </tr>\n",
       "  </thead>\n",
       "  <tbody>\n",
       "    <tr>\n",
       "      <th>6</th>\n",
       "      <td>653800.0</td>\n",
       "    </tr>\n",
       "    <tr>\n",
       "      <th>37</th>\n",
       "      <td>787200.0</td>\n",
       "    </tr>\n",
       "    <tr>\n",
       "      <th>53</th>\n",
       "      <td>1250640.0</td>\n",
       "    </tr>\n",
       "    <tr>\n",
       "      <th>190</th>\n",
       "      <td>778960.0</td>\n",
       "    </tr>\n",
       "    <tr>\n",
       "      <th>149</th>\n",
       "      <td>2930944.0</td>\n",
       "    </tr>\n",
       "  </tbody>\n",
       "</table>\n",
       "</div>"
      ],
      "text/plain": [
       "     kilos_lana\n",
       "6      653800.0\n",
       "37     787200.0\n",
       "53    1250640.0\n",
       "190    778960.0\n",
       "149   2930944.0"
      ]
     },
     "execution_count": 10,
     "metadata": {},
     "output_type": "execute_result"
    }
   ],
   "source": [
    "y_test_1[:5]"
   ]
  },
  {
   "cell_type": "markdown",
   "id": "d6c213de",
   "metadata": {},
   "source": [
    "### Métricas"
   ]
  },
  {
   "cell_type": "markdown",
   "id": "5e199050",
   "metadata": {},
   "source": [
    "#### Score"
   ]
  },
  {
   "cell_type": "markdown",
   "id": "7b3d1461",
   "metadata": {},
   "source": [
    "*Score*: Todos los algoritmos incluyen un método \"score\" que provee el resultado de un criterio de evaluación por defecto para aquel problema al que están orientados. De esta manera, el método score de un modelo de clasificación basado en árbol de decisión, devuelve la precisión del modelo, entendida como el porcentaje de valores clasificados correctamente con respecto al total de elementos. O una regresión lineal devuelve el coeficiente de determinación, o R2, entendida como el porcentaje de la variancia de la variable dependiente que es predecible a partir de la variable independiente."
   ]
  },
  {
   "cell_type": "code",
   "execution_count": 13,
   "id": "773f9f35",
   "metadata": {},
   "outputs": [
    {
     "name": "stdout",
     "output_type": "stream",
     "text": [
      "Precisión del modelo en entrenamiento:\n",
      "0.9062%\n"
     ]
    }
   ],
   "source": [
    "print('Precisión del modelo en entrenamiento:')\n",
    "print(str(round(lr_multiple_1.score(X_train_1, y_train_1),4))+'%')"
   ]
  },
  {
   "cell_type": "markdown",
   "id": "58908b72",
   "metadata": {},
   "source": [
    "Interpretación: En este caso estamos usando los valores de entrenamiento, y el modelo predice con un 91% de exactitud.  "
   ]
  },
  {
   "cell_type": "code",
   "execution_count": 14,
   "id": "fb51f297",
   "metadata": {},
   "outputs": [
    {
     "name": "stdout",
     "output_type": "stream",
     "text": [
      "Precisión del modelo en test:\n",
      "0.9108%\n"
     ]
    }
   ],
   "source": [
    "print('Precisión del modelo en test:')\n",
    "print(str(round(lr_multiple_1.score(X_test_1, y_test_1),4))+'%')"
   ]
  },
  {
   "cell_type": "markdown",
   "id": "b5541e15",
   "metadata": {},
   "source": [
    "Interpretación: En este caso estamos usando los valores de prueba, y el modelo predice con un 91% de exactitud. "
   ]
  },
  {
   "cell_type": "markdown",
   "id": "e7cca92f",
   "metadata": {},
   "source": [
    "#### Varianza explicada"
   ]
  },
  {
   "cell_type": "markdown",
   "id": "e0d5d7cd",
   "metadata": {},
   "source": [
    "*Varianza explicada*: Representa el porcentaje de la varianza de la variable de salida que es explicado por el modelo. O sea esta métrica evalúa la variación o dispersión de los puntos de datos. La mejor puntuación posible es 1.0, los valores más bajos son peores. Dentro de sklearn el método es **explained_variance_score**. "
   ]
  },
  {
   "cell_type": "code",
   "execution_count": 15,
   "id": "03b98495",
   "metadata": {},
   "outputs": [
    {
     "name": "stdout",
     "output_type": "stream",
     "text": [
      "Varianza Explicada:\n",
      "0.9157\n"
     ]
    }
   ],
   "source": [
    "print('Varianza Explicada:')\n",
    "print(str(round(explained_variance_score(y_test_1, Y_pred_multiple_1),4)))"
   ]
  },
  {
   "cell_type": "markdown",
   "id": "0ad38976",
   "metadata": {},
   "source": [
    "Interpretación: El modelo explica la variable de salida en un 92%."
   ]
  },
  {
   "cell_type": "markdown",
   "id": "882bd947",
   "metadata": {},
   "source": [
    "#### Error medio absoluto"
   ]
  },
  {
   "cell_type": "markdown",
   "id": "a892d9a6",
   "metadata": {},
   "source": [
    "*Error medio absoluto* (**MAE**): Es la media de las diferencias absolutas entre el valor objetivo y el predicho. Al no elevar al cuadrado, no penaliza los errores grandes, lo que la hace no muy sensible a valores anómalos, por lo que no es una métrica recomendable en modelos en los que se deba prestar atención a éstos. Mientras mas cercano a cero mejor. Dentro de sklearn el método es **mean_absolute_error**."
   ]
  },
  {
   "cell_type": "code",
   "execution_count": 16,
   "id": "7da2d29f",
   "metadata": {},
   "outputs": [
    {
     "name": "stdout",
     "output_type": "stream",
     "text": [
      "MAE:\n",
      "154350.6543\n"
     ]
    }
   ],
   "source": [
    "print('MAE:')\n",
    "print(str(round(mean_absolute_error(y_test_1, Y_pred_multiple_1),4)))"
   ]
  },
  {
   "cell_type": "markdown",
   "id": "b722abdb",
   "metadata": {},
   "source": [
    "Interpretación: Nos dice que el modelo se equivoca en promedio 154350kg, cada vez que predice un valor de lana. "
   ]
  },
  {
   "cell_type": "markdown",
   "id": "655af706",
   "metadata": {},
   "source": [
    "#### Error cuadrático medio"
   ]
  },
  {
   "cell_type": "markdown",
   "id": "048db3e5",
   "metadata": {},
   "source": [
    "*Error cuadrático medio* (**MSE**): Es simplemente la media de las diferencias entre el valor objetivo y el predicho al cuadrado. Al elevar al cuadrado los errores, magnifica los errores grandes, por lo que hay que utilizarla con cuidado cuando tenemos valores anómalos en nuestro conjunto de datos. Mientras mas cercano a cero mejor. Dentro de sklearn el método es **mean_squared_error**."
   ]
  },
  {
   "cell_type": "code",
   "execution_count": 17,
   "id": "9a0b0f5d",
   "metadata": {},
   "outputs": [
    {
     "name": "stdout",
     "output_type": "stream",
     "text": [
      "MSE:\n",
      "50845121964.4406\n"
     ]
    }
   ],
   "source": [
    "print('MSE:')\n",
    "print(str(round(mean_squared_error(y_test_1, Y_pred_multiple_1),4)))"
   ]
  },
  {
   "cell_type": "markdown",
   "id": "c3e9a681",
   "metadata": {},
   "source": [
    "Interpretación: Nos dice que el modelo se equivoca un montón, cada vez que predice un valor de lana, porque esta penalizando los errores grandes. "
   ]
  },
  {
   "cell_type": "markdown",
   "id": "aad402e7",
   "metadata": {},
   "source": [
    "#### Raíz cuadrada del MSE"
   ]
  },
  {
   "cell_type": "markdown",
   "id": "26935214",
   "metadata": {},
   "source": [
    "*Raíz cuadrada de la media del error al cuadrado* (**RMSE**): Es igual a la raíz cuadrada de la métrica anterior. La ventaja de esta métrica es que presenta el error en las mismas unidades que la variable objetivo, lo que la hace más fácil de entender. Mientras mas cercano a cero mejor. Dentro de sklearn el método es **mean_squared_error** y a este se le saca la raíz cuadrada. "
   ]
  },
  {
   "cell_type": "code",
   "execution_count": 18,
   "id": "3af44485",
   "metadata": {},
   "outputs": [
    {
     "name": "stdout",
     "output_type": "stream",
     "text": [
      "RMSE:\n",
      "225488.6293\n"
     ]
    }
   ],
   "source": [
    "print('RMSE:')\n",
    "print(str(round(np.sqrt(round(mean_squared_error(y_test_1, Y_pred_multiple_1),4)),4)))"
   ]
  },
  {
   "cell_type": "markdown",
   "id": "e21bb39b",
   "metadata": {},
   "source": [
    "Interpretación: Nos dice que el modelo se equivoca en promedio 225488kg, cada vez que predice un valor de lana."
   ]
  },
  {
   "cell_type": "markdown",
   "id": "0e9f212f",
   "metadata": {},
   "source": [
    "#### R cuadrado"
   ]
  },
  {
   "cell_type": "markdown",
   "id": "c8953d4c",
   "metadata": {},
   "source": [
    "*R cuadrado* (**R2**): Esta métrica difiere de las anteriores, ya que compara nuestro modelo con un modelo básico que siempre devuelve como predicción la media de los valores objetivo de entrenamiento. La comparación entre estos dos modelos se realiza en base a la media de los errores al cuadrado de cada modelo. Los valores que puede tomar esta métrica van desde menos infinito a 1. Cuanto más cercano a 1 sea el valor de esta métrica, mejor será nuestro modelo. El R cuadrado, también llamado coeficiente de determinación, refleja la bondad del ajuste de un modelo a la variable que pretender explicar. Es importante saber que el resultado del coeficiente de determinación oscila entre 0 y 1. Cuanto más cerca de 1 se sitúe su valor, mayor será el ajuste del modelo a la variable que estamos intentando explicar. De forma inversa, cuanto más cerca de cero, menos ajustado estará el modelo y, por tanto, menos fiable será. Dentro de sklearn el método es **r2_score**."
   ]
  },
  {
   "cell_type": "code",
   "execution_count": 21,
   "id": "000a30bd",
   "metadata": {},
   "outputs": [
    {
     "name": "stdout",
     "output_type": "stream",
     "text": [
      "R2:\n",
      "0.9108\n"
     ]
    }
   ],
   "source": [
    "print('R2:')\n",
    "print(str(round(r2_score(y_test_1, Y_pred_multiple_1),4)))"
   ]
  },
  {
   "cell_type": "markdown",
   "id": "cdc74660",
   "metadata": {},
   "source": [
    "Interpretación: El modelo explica en un 91% la variable"
   ]
  },
  {
   "cell_type": "markdown",
   "id": "f46b6f01",
   "metadata": {},
   "source": [
    "El problema del coeficiente de determinación, y razón por el cual surge el coeficiente de determinación ajustado, radica en que no penaliza la inclusión de variables explicativas no significativas. Es decir, si al modelo se añaden cinco variables explicativas que guardan poca relación con lo que se intenta predecir, el R cuadrado aumentará. Es por ello que muchos expertos económetras, estadísticos y matemáticos se oponen al uso del R cuadrado como medida representativa de la bondad del ajuste real."
   ]
  },
  {
   "cell_type": "code",
   "execution_count": null,
   "id": "e5e50ecc",
   "metadata": {},
   "outputs": [],
   "source": []
  }
 ],
 "metadata": {
  "kernelspec": {
   "display_name": "Python 3 (ipykernel)",
   "language": "python",
   "name": "python3"
  },
  "language_info": {
   "codemirror_mode": {
    "name": "ipython",
    "version": 3
   },
   "file_extension": ".py",
   "mimetype": "text/x-python",
   "name": "python",
   "nbconvert_exporter": "python",
   "pygments_lexer": "ipython3",
   "version": "3.9.7"
  },
  "toc": {
   "base_numbering": 1,
   "nav_menu": {},
   "number_sections": true,
   "sideBar": true,
   "skip_h1_title": false,
   "title_cell": "Table of Contents",
   "title_sidebar": "Contents",
   "toc_cell": false,
   "toc_position": {},
   "toc_section_display": true,
   "toc_window_display": false
  }
 },
 "nbformat": 4,
 "nbformat_minor": 5
}
